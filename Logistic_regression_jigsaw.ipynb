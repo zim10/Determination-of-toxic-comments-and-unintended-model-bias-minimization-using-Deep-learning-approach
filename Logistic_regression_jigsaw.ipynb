{
  "nbformat": 4,
  "nbformat_minor": 0,
  "metadata": {
    "colab": {
      "provenance": [],
      "mount_file_id": "1Bi3zyt0V9wQHqrZDFEqLujJINZ0_Bf_T",
      "authorship_tag": "ABX9TyPo4FHPWh2DLOMbETfbD2k7"
    },
    "kernelspec": {
      "name": "python3",
      "display_name": "Python 3"
    },
    "language_info": {
      "name": "python"
    }
  },
  "cells": [
    {
      "cell_type": "markdown",
      "source": [
        "Toxicity Classification and minimization of unintended bias for Comments using Logistic Regression models.\n",
        "\n",
        "**Azim Khan **"
      ],
      "metadata": {
        "id": "eDFMZvK-P96h"
      }
    },
    {
      "cell_type": "code",
      "execution_count": null,
      "metadata": {
        "id": "7pxrHKDYa77o"
      },
      "outputs": [],
      "source": [
        "#import required library\n",
        "import os\n",
        "import csv\n",
        "import pandas as pd\n",
        "import numpy as np\n",
        "import matplotlib.pyplot as plt\n",
        "import seaborn as sns\n",
        "import re\n",
        "\n",
        "import statsmodels.api as sm\n",
        "\n",
        "from sklearn.model_selection import train_test_split\n",
        "from sklearn.linear_model import LinearRegression\n",
        "from sklearn.feature_selection import RFE\n",
        "from sklearn.linear_model import RidgeCV, LassoCV, Ridge, Lasso\n",
        "\n",
        "from sklearn import metrics\n",
        "\n",
        "import time\n",
        "import pickle \n",
        "\n",
        "import pandas as pd"
      ]
    },
    {
      "cell_type": "code",
      "source": [
        "os.listdir(\"../\")"
      ],
      "metadata": {
        "colab": {
          "base_uri": "https://localhost:8080/"
        },
        "id": "1lZp9vbWbAdO",
        "outputId": "4f2eaa52-3717-4fa4-fbb4-9df0d2873c72"
      },
      "execution_count": null,
      "outputs": [
        {
          "output_type": "execute_result",
          "data": {
            "text/plain": [
              "['lib64',\n",
              " 'dev',\n",
              " 'lib',\n",
              " 'opt',\n",
              " 'var',\n",
              " 'run',\n",
              " 'sbin',\n",
              " 'etc',\n",
              " 'tmp',\n",
              " 'sys',\n",
              " 'usr',\n",
              " 'home',\n",
              " 'bin',\n",
              " 'proc',\n",
              " 'boot',\n",
              " 'root',\n",
              " 'mnt',\n",
              " 'media',\n",
              " 'srv',\n",
              " 'content',\n",
              " '.dockerenv',\n",
              " 'tools',\n",
              " 'datalab',\n",
              " 'python-apt',\n",
              " 'lib32',\n",
              " 'NGC-DL-CONTAINER-LICENSE']"
            ]
          },
          "metadata": {},
          "execution_count": 4
        }
      ]
    },
    {
      "cell_type": "code",
      "source": [
        "\n",
        "train = pd.read_csv('/content/drive/MyDrive/dataset/train.csv')\n",
        "submission_TFIDF = pd.read_csv('/content/drive/MyDrive/dataset/test.csv')"
      ],
      "metadata": {
        "id": "PxWpF0SNbJp9"
      },
      "execution_count": null,
      "outputs": []
    },
    {
      "cell_type": "code",
      "source": [
        "train.head()"
      ],
      "metadata": {
        "colab": {
          "base_uri": "https://localhost:8080/",
          "height": 560
        },
        "id": "cO3JNf7ibb-1",
        "outputId": "91ff344e-cd61-470d-fdaf-7c51e539a5a1"
      },
      "execution_count": null,
      "outputs": [
        {
          "output_type": "execute_result",
          "data": {
            "text/plain": [
              "      id    target                                       comment_text  \\\n",
              "0  59848  0.000000  This is so cool. It's like, 'would you want yo...   \n",
              "1  59849  0.000000  Thank you!! This would make my life a lot less...   \n",
              "2  59852  0.000000  This is such an urgent design problem; kudos t...   \n",
              "3  59855  0.000000  Is this something I'll be able to install on m...   \n",
              "4  59856  0.893617               haha you guys are a bunch of losers.   \n",
              "\n",
              "   severe_toxicity  obscene  identity_attack   insult  threat  asian  atheist  \\\n",
              "0         0.000000      0.0         0.000000  0.00000     0.0    NaN      NaN   \n",
              "1         0.000000      0.0         0.000000  0.00000     0.0    NaN      NaN   \n",
              "2         0.000000      0.0         0.000000  0.00000     0.0    NaN      NaN   \n",
              "3         0.000000      0.0         0.000000  0.00000     0.0    NaN      NaN   \n",
              "4         0.021277      0.0         0.021277  0.87234     0.0    0.0      0.0   \n",
              "\n",
              "   ...  article_id    rating  funny  wow  sad  likes  disagree  \\\n",
              "0  ...        2006  rejected      0    0    0      0         0   \n",
              "1  ...        2006  rejected      0    0    0      0         0   \n",
              "2  ...        2006  rejected      0    0    0      0         0   \n",
              "3  ...        2006  rejected      0    0    0      0         0   \n",
              "4  ...        2006  rejected      0    0    0      1         0   \n",
              "\n",
              "   sexual_explicit  identity_annotator_count  toxicity_annotator_count  \n",
              "0              0.0                         0                         4  \n",
              "1              0.0                         0                         4  \n",
              "2              0.0                         0                         4  \n",
              "3              0.0                         0                         4  \n",
              "4              0.0                         4                        47  \n",
              "\n",
              "[5 rows x 45 columns]"
            ],
            "text/html": [
              "\n",
              "  <div id=\"df-f8eb90bf-cc07-49ff-be0f-0b50f0a00c8b\">\n",
              "    <div class=\"colab-df-container\">\n",
              "      <div>\n",
              "<style scoped>\n",
              "    .dataframe tbody tr th:only-of-type {\n",
              "        vertical-align: middle;\n",
              "    }\n",
              "\n",
              "    .dataframe tbody tr th {\n",
              "        vertical-align: top;\n",
              "    }\n",
              "\n",
              "    .dataframe thead th {\n",
              "        text-align: right;\n",
              "    }\n",
              "</style>\n",
              "<table border=\"1\" class=\"dataframe\">\n",
              "  <thead>\n",
              "    <tr style=\"text-align: right;\">\n",
              "      <th></th>\n",
              "      <th>id</th>\n",
              "      <th>target</th>\n",
              "      <th>comment_text</th>\n",
              "      <th>severe_toxicity</th>\n",
              "      <th>obscene</th>\n",
              "      <th>identity_attack</th>\n",
              "      <th>insult</th>\n",
              "      <th>threat</th>\n",
              "      <th>asian</th>\n",
              "      <th>atheist</th>\n",
              "      <th>...</th>\n",
              "      <th>article_id</th>\n",
              "      <th>rating</th>\n",
              "      <th>funny</th>\n",
              "      <th>wow</th>\n",
              "      <th>sad</th>\n",
              "      <th>likes</th>\n",
              "      <th>disagree</th>\n",
              "      <th>sexual_explicit</th>\n",
              "      <th>identity_annotator_count</th>\n",
              "      <th>toxicity_annotator_count</th>\n",
              "    </tr>\n",
              "  </thead>\n",
              "  <tbody>\n",
              "    <tr>\n",
              "      <th>0</th>\n",
              "      <td>59848</td>\n",
              "      <td>0.000000</td>\n",
              "      <td>This is so cool. It's like, 'would you want yo...</td>\n",
              "      <td>0.000000</td>\n",
              "      <td>0.0</td>\n",
              "      <td>0.000000</td>\n",
              "      <td>0.00000</td>\n",
              "      <td>0.0</td>\n",
              "      <td>NaN</td>\n",
              "      <td>NaN</td>\n",
              "      <td>...</td>\n",
              "      <td>2006</td>\n",
              "      <td>rejected</td>\n",
              "      <td>0</td>\n",
              "      <td>0</td>\n",
              "      <td>0</td>\n",
              "      <td>0</td>\n",
              "      <td>0</td>\n",
              "      <td>0.0</td>\n",
              "      <td>0</td>\n",
              "      <td>4</td>\n",
              "    </tr>\n",
              "    <tr>\n",
              "      <th>1</th>\n",
              "      <td>59849</td>\n",
              "      <td>0.000000</td>\n",
              "      <td>Thank you!! This would make my life a lot less...</td>\n",
              "      <td>0.000000</td>\n",
              "      <td>0.0</td>\n",
              "      <td>0.000000</td>\n",
              "      <td>0.00000</td>\n",
              "      <td>0.0</td>\n",
              "      <td>NaN</td>\n",
              "      <td>NaN</td>\n",
              "      <td>...</td>\n",
              "      <td>2006</td>\n",
              "      <td>rejected</td>\n",
              "      <td>0</td>\n",
              "      <td>0</td>\n",
              "      <td>0</td>\n",
              "      <td>0</td>\n",
              "      <td>0</td>\n",
              "      <td>0.0</td>\n",
              "      <td>0</td>\n",
              "      <td>4</td>\n",
              "    </tr>\n",
              "    <tr>\n",
              "      <th>2</th>\n",
              "      <td>59852</td>\n",
              "      <td>0.000000</td>\n",
              "      <td>This is such an urgent design problem; kudos t...</td>\n",
              "      <td>0.000000</td>\n",
              "      <td>0.0</td>\n",
              "      <td>0.000000</td>\n",
              "      <td>0.00000</td>\n",
              "      <td>0.0</td>\n",
              "      <td>NaN</td>\n",
              "      <td>NaN</td>\n",
              "      <td>...</td>\n",
              "      <td>2006</td>\n",
              "      <td>rejected</td>\n",
              "      <td>0</td>\n",
              "      <td>0</td>\n",
              "      <td>0</td>\n",
              "      <td>0</td>\n",
              "      <td>0</td>\n",
              "      <td>0.0</td>\n",
              "      <td>0</td>\n",
              "      <td>4</td>\n",
              "    </tr>\n",
              "    <tr>\n",
              "      <th>3</th>\n",
              "      <td>59855</td>\n",
              "      <td>0.000000</td>\n",
              "      <td>Is this something I'll be able to install on m...</td>\n",
              "      <td>0.000000</td>\n",
              "      <td>0.0</td>\n",
              "      <td>0.000000</td>\n",
              "      <td>0.00000</td>\n",
              "      <td>0.0</td>\n",
              "      <td>NaN</td>\n",
              "      <td>NaN</td>\n",
              "      <td>...</td>\n",
              "      <td>2006</td>\n",
              "      <td>rejected</td>\n",
              "      <td>0</td>\n",
              "      <td>0</td>\n",
              "      <td>0</td>\n",
              "      <td>0</td>\n",
              "      <td>0</td>\n",
              "      <td>0.0</td>\n",
              "      <td>0</td>\n",
              "      <td>4</td>\n",
              "    </tr>\n",
              "    <tr>\n",
              "      <th>4</th>\n",
              "      <td>59856</td>\n",
              "      <td>0.893617</td>\n",
              "      <td>haha you guys are a bunch of losers.</td>\n",
              "      <td>0.021277</td>\n",
              "      <td>0.0</td>\n",
              "      <td>0.021277</td>\n",
              "      <td>0.87234</td>\n",
              "      <td>0.0</td>\n",
              "      <td>0.0</td>\n",
              "      <td>0.0</td>\n",
              "      <td>...</td>\n",
              "      <td>2006</td>\n",
              "      <td>rejected</td>\n",
              "      <td>0</td>\n",
              "      <td>0</td>\n",
              "      <td>0</td>\n",
              "      <td>1</td>\n",
              "      <td>0</td>\n",
              "      <td>0.0</td>\n",
              "      <td>4</td>\n",
              "      <td>47</td>\n",
              "    </tr>\n",
              "  </tbody>\n",
              "</table>\n",
              "<p>5 rows × 45 columns</p>\n",
              "</div>\n",
              "      <button class=\"colab-df-convert\" onclick=\"convertToInteractive('df-f8eb90bf-cc07-49ff-be0f-0b50f0a00c8b')\"\n",
              "              title=\"Convert this dataframe to an interactive table.\"\n",
              "              style=\"display:none;\">\n",
              "        \n",
              "  <svg xmlns=\"http://www.w3.org/2000/svg\" height=\"24px\"viewBox=\"0 0 24 24\"\n",
              "       width=\"24px\">\n",
              "    <path d=\"M0 0h24v24H0V0z\" fill=\"none\"/>\n",
              "    <path d=\"M18.56 5.44l.94 2.06.94-2.06 2.06-.94-2.06-.94-.94-2.06-.94 2.06-2.06.94zm-11 1L8.5 8.5l.94-2.06 2.06-.94-2.06-.94L8.5 2.5l-.94 2.06-2.06.94zm10 10l.94 2.06.94-2.06 2.06-.94-2.06-.94-.94-2.06-.94 2.06-2.06.94z\"/><path d=\"M17.41 7.96l-1.37-1.37c-.4-.4-.92-.59-1.43-.59-.52 0-1.04.2-1.43.59L10.3 9.45l-7.72 7.72c-.78.78-.78 2.05 0 2.83L4 21.41c.39.39.9.59 1.41.59.51 0 1.02-.2 1.41-.59l7.78-7.78 2.81-2.81c.8-.78.8-2.07 0-2.86zM5.41 20L4 18.59l7.72-7.72 1.47 1.35L5.41 20z\"/>\n",
              "  </svg>\n",
              "      </button>\n",
              "      \n",
              "  <style>\n",
              "    .colab-df-container {\n",
              "      display:flex;\n",
              "      flex-wrap:wrap;\n",
              "      gap: 12px;\n",
              "    }\n",
              "\n",
              "    .colab-df-convert {\n",
              "      background-color: #E8F0FE;\n",
              "      border: none;\n",
              "      border-radius: 50%;\n",
              "      cursor: pointer;\n",
              "      display: none;\n",
              "      fill: #1967D2;\n",
              "      height: 32px;\n",
              "      padding: 0 0 0 0;\n",
              "      width: 32px;\n",
              "    }\n",
              "\n",
              "    .colab-df-convert:hover {\n",
              "      background-color: #E2EBFA;\n",
              "      box-shadow: 0px 1px 2px rgba(60, 64, 67, 0.3), 0px 1px 3px 1px rgba(60, 64, 67, 0.15);\n",
              "      fill: #174EA6;\n",
              "    }\n",
              "\n",
              "    [theme=dark] .colab-df-convert {\n",
              "      background-color: #3B4455;\n",
              "      fill: #D2E3FC;\n",
              "    }\n",
              "\n",
              "    [theme=dark] .colab-df-convert:hover {\n",
              "      background-color: #434B5C;\n",
              "      box-shadow: 0px 1px 3px 1px rgba(0, 0, 0, 0.15);\n",
              "      filter: drop-shadow(0px 1px 2px rgba(0, 0, 0, 0.3));\n",
              "      fill: #FFFFFF;\n",
              "    }\n",
              "  </style>\n",
              "\n",
              "      <script>\n",
              "        const buttonEl =\n",
              "          document.querySelector('#df-f8eb90bf-cc07-49ff-be0f-0b50f0a00c8b button.colab-df-convert');\n",
              "        buttonEl.style.display =\n",
              "          google.colab.kernel.accessAllowed ? 'block' : 'none';\n",
              "\n",
              "        async function convertToInteractive(key) {\n",
              "          const element = document.querySelector('#df-f8eb90bf-cc07-49ff-be0f-0b50f0a00c8b');\n",
              "          const dataTable =\n",
              "            await google.colab.kernel.invokeFunction('convertToInteractive',\n",
              "                                                     [key], {});\n",
              "          if (!dataTable) return;\n",
              "\n",
              "          const docLinkHtml = 'Like what you see? Visit the ' +\n",
              "            '<a target=\"_blank\" href=https://colab.research.google.com/notebooks/data_table.ipynb>data table notebook</a>'\n",
              "            + ' to learn more about interactive tables.';\n",
              "          element.innerHTML = '';\n",
              "          dataTable['output_type'] = 'display_data';\n",
              "          await google.colab.output.renderOutput(dataTable, element);\n",
              "          const docLink = document.createElement('div');\n",
              "          docLink.innerHTML = docLinkHtml;\n",
              "          element.appendChild(docLink);\n",
              "        }\n",
              "      </script>\n",
              "    </div>\n",
              "  </div>\n",
              "  "
            ]
          },
          "metadata": {},
          "execution_count": 6
        }
      ]
    },
    {
      "cell_type": "code",
      "source": [
        "train.info()"
      ],
      "metadata": {
        "colab": {
          "base_uri": "https://localhost:8080/"
        },
        "id": "lbjGQGF2bkct",
        "outputId": "e33eb47b-bd4b-4033-ebcf-9a61741c3fbd"
      },
      "execution_count": null,
      "outputs": [
        {
          "output_type": "stream",
          "name": "stdout",
          "text": [
            "<class 'pandas.core.frame.DataFrame'>\n",
            "RangeIndex: 1804874 entries, 0 to 1804873\n",
            "Data columns (total 45 columns):\n",
            " #   Column                               Dtype  \n",
            "---  ------                               -----  \n",
            " 0   id                                   int64  \n",
            " 1   target                               float64\n",
            " 2   comment_text                         object \n",
            " 3   severe_toxicity                      float64\n",
            " 4   obscene                              float64\n",
            " 5   identity_attack                      float64\n",
            " 6   insult                               float64\n",
            " 7   threat                               float64\n",
            " 8   asian                                float64\n",
            " 9   atheist                              float64\n",
            " 10  bisexual                             float64\n",
            " 11  black                                float64\n",
            " 12  buddhist                             float64\n",
            " 13  christian                            float64\n",
            " 14  female                               float64\n",
            " 15  heterosexual                         float64\n",
            " 16  hindu                                float64\n",
            " 17  homosexual_gay_or_lesbian            float64\n",
            " 18  intellectual_or_learning_disability  float64\n",
            " 19  jewish                               float64\n",
            " 20  latino                               float64\n",
            " 21  male                                 float64\n",
            " 22  muslim                               float64\n",
            " 23  other_disability                     float64\n",
            " 24  other_gender                         float64\n",
            " 25  other_race_or_ethnicity              float64\n",
            " 26  other_religion                       float64\n",
            " 27  other_sexual_orientation             float64\n",
            " 28  physical_disability                  float64\n",
            " 29  psychiatric_or_mental_illness        float64\n",
            " 30  transgender                          float64\n",
            " 31  white                                float64\n",
            " 32  created_date                         object \n",
            " 33  publication_id                       int64  \n",
            " 34  parent_id                            float64\n",
            " 35  article_id                           int64  \n",
            " 36  rating                               object \n",
            " 37  funny                                int64  \n",
            " 38  wow                                  int64  \n",
            " 39  sad                                  int64  \n",
            " 40  likes                                int64  \n",
            " 41  disagree                             int64  \n",
            " 42  sexual_explicit                      float64\n",
            " 43  identity_annotator_count             int64  \n",
            " 44  toxicity_annotator_count             int64  \n",
            "dtypes: float64(32), int64(10), object(3)\n",
            "memory usage: 619.7+ MB\n"
          ]
        }
      ]
    },
    {
      "cell_type": "code",
      "source": [
        "Data_EDA=pd.DataFrame({'target':(train['target'].values>=0.5).astype(bool).astype(np.int)})\n",
        "Data_EDA[\"Labels\"]=Data_EDA['target'].apply(lambda x:\"Non Toxic\" if x==0 else \"Toxic\" )\n",
        "Data_EDA[\"comment_length\"]=train['comment_text'].str.len()\n",
        "Data_EDA[\"comment_text\"]=train['comment_text']"
      ],
      "metadata": {
        "colab": {
          "base_uri": "https://localhost:8080/"
        },
        "id": "Etd2w0DXcHdW",
        "outputId": "5fdf2968-105d-4f25-fe71-e34f95b83d76"
      },
      "execution_count": null,
      "outputs": [
        {
          "output_type": "stream",
          "name": "stderr",
          "text": [
            "<ipython-input-8-285652356c4c>:1: DeprecationWarning: `np.int` is a deprecated alias for the builtin `int`. To silence this warning, use `int` by itself. Doing this will not modify any behavior and is safe. When replacing `np.int`, you may wish to use e.g. `np.int64` or `np.int32` to specify the precision. If you wish to review your current use, check the release note link for additional information.\n",
            "Deprecated in NumPy 1.20; for more details and guidance: https://numpy.org/devdocs/release/1.20.0-notes.html#deprecations\n",
            "  Data_EDA=pd.DataFrame({'target':(train['target'].values>=0.5).astype(bool).astype(np.int)})\n"
          ]
        }
      ]
    },
    {
      "cell_type": "code",
      "source": [
        "sns.countplot(Data_EDA[\"Labels\"])\n",
        "#sns.countplot((train['target'].values<0.5).astype(bool).astype(np.int),label=[\"Toxic\",\"Non Toxic\"])"
      ],
      "metadata": {
        "colab": {
          "base_uri": "https://localhost:8080/",
          "height": 362
        },
        "id": "KlJWBqZlcKQd",
        "outputId": "d957383b-08dc-46c0-9550-84b0159d7c1e"
      },
      "execution_count": null,
      "outputs": [
        {
          "output_type": "stream",
          "name": "stderr",
          "text": [
            "/usr/local/lib/python3.8/dist-packages/seaborn/_decorators.py:36: FutureWarning: Pass the following variable as a keyword arg: x. From version 0.12, the only valid positional argument will be `data`, and passing other arguments without an explicit keyword will result in an error or misinterpretation.\n",
            "  warnings.warn(\n"
          ]
        },
        {
          "output_type": "execute_result",
          "data": {
            "text/plain": [
              "<matplotlib.axes._subplots.AxesSubplot at 0x7f495bd67430>"
            ]
          },
          "metadata": {},
          "execution_count": 9
        },
        {
          "output_type": "display_data",
          "data": {
            "text/plain": [
              "<Figure size 432x288 with 1 Axes>"
            ],
            "image/png": "[encoded data removed]"
          },
          "metadata": {
            "needs_background": "light"
          }
        }
      ]
    },
    {
      "cell_type": "code",
      "source": [
        "print(len(train.comment_text[train['target'] >= 0.5]) /      len(train['comment_text']) * 100,'percent of toxic')\n",
        "print(len(train.comment_text[train['target'] < 0.5]) / len(train['comment_text']) * 100,'percent of non toxic')"
      ],
      "metadata": {
        "colab": {
          "base_uri": "https://localhost:8080/"
        },
        "id": "hSn9TqlUcNGG",
        "outputId": "24dc98fd-6764-47b8-a777-ab3d79f44b08"
      },
      "execution_count": null,
      "outputs": [
        {
          "output_type": "stream",
          "name": "stdout",
          "text": [
            "7.99690172277954 percent of toxic\n",
            "92.00309827722046 percent of non toxic\n"
          ]
        }
      ]
    },
    {
      "cell_type": "code",
      "source": [
        "unique_qs = len(np.unique(train['comment_text']))\n",
        "qs_morethan_onetime = np.sum(train['comment_text'].value_counts() > 1)"
      ],
      "metadata": {
        "id": "rWFyeMPGcQCl"
      },
      "execution_count": null,
      "outputs": []
    },
    {
      "cell_type": "code",
      "source": [
        "unique_qs"
      ],
      "metadata": {
        "colab": {
          "base_uri": "https://localhost:8080/"
        },
        "id": "mO2u87rYcVSK",
        "outputId": "8140be73-a858-4290-fcb0-ef9c4c665480"
      },
      "execution_count": null,
      "outputs": [
        {
          "output_type": "execute_result",
          "data": {
            "text/plain": [
              "1780823"
            ]
          },
          "metadata": {},
          "execution_count": 12
        }
      ]
    },
    {
      "cell_type": "code",
      "source": [
        "qs_morethan_onetime"
      ],
      "metadata": {
        "colab": {
          "base_uri": "https://localhost:8080/"
        },
        "id": "0ajCKO03cXQK",
        "outputId": "7e9be55e-0edd-47bb-888b-931fc0c7d009"
      },
      "execution_count": null,
      "outputs": [
        {
          "output_type": "execute_result",
          "data": {
            "text/plain": [
              "10180"
            ]
          },
          "metadata": {},
          "execution_count": 13
        }
      ]
    },
    {
      "cell_type": "code",
      "source": [
        "train.duplicated(subset=set(train.columns)).value_counts()"
      ],
      "metadata": {
        "colab": {
          "base_uri": "https://localhost:8080/"
        },
        "id": "ySvMawaGcZUb",
        "outputId": "1bca79d0-9918-4b3a-f392-6a2bccd3d2e4"
      },
      "execution_count": null,
      "outputs": [
        {
          "output_type": "execute_result",
          "data": {
            "text/plain": [
              "False    1804874\n",
              "dtype: int64"
            ]
          },
          "metadata": {},
          "execution_count": 14
        }
      ]
    },
    {
      "cell_type": "code",
      "source": [
        "train.isnull().sum()"
      ],
      "metadata": {
        "colab": {
          "base_uri": "https://localhost:8080/"
        },
        "id": "oK5ONzvZceKK",
        "outputId": "c376333f-6ac4-4e68-8d72-8012d83f100b"
      },
      "execution_count": null,
      "outputs": [
        {
          "output_type": "execute_result",
          "data": {
            "text/plain": [
              "id                                           0\n",
              "target                                       0\n",
              "comment_text                                 0\n",
              "severe_toxicity                              0\n",
              "obscene                                      0\n",
              "identity_attack                              0\n",
              "insult                                       0\n",
              "threat                                       0\n",
              "asian                                  1399744\n",
              "atheist                                1399744\n",
              "bisexual                               1399744\n",
              "black                                  1399744\n",
              "buddhist                               1399744\n",
              "christian                              1399744\n",
              "female                                 1399744\n",
              "heterosexual                           1399744\n",
              "hindu                                  1399744\n",
              "homosexual_gay_or_lesbian              1399744\n",
              "intellectual_or_learning_disability    1399744\n",
              "jewish                                 1399744\n",
              "latino                                 1399744\n",
              "male                                   1399744\n",
              "muslim                                 1399744\n",
              "other_disability                       1399744\n",
              "other_gender                           1399744\n",
              "other_race_or_ethnicity                1399744\n",
              "other_religion                         1399744\n",
              "other_sexual_orientation               1399744\n",
              "physical_disability                    1399744\n",
              "psychiatric_or_mental_illness          1399744\n",
              "transgender                            1399744\n",
              "white                                  1399744\n",
              "created_date                                 0\n",
              "publication_id                               0\n",
              "parent_id                               778646\n",
              "article_id                                   0\n",
              "rating                                       0\n",
              "funny                                        0\n",
              "wow                                          0\n",
              "sad                                          0\n",
              "likes                                        0\n",
              "disagree                                     0\n",
              "sexual_explicit                              0\n",
              "identity_annotator_count                     0\n",
              "toxicity_annotator_count                     0\n",
              "dtype: int64"
            ]
          },
          "metadata": {},
          "execution_count": 15
        }
      ]
    },
    {
      "cell_type": "code",
      "source": [
        "Data_EDA=pd.DataFrame({'target':(train['target'].values>=0.5).astype(bool).astype(np.int)})\n",
        "Data_EDA[\"Labels\"]=Data_EDA['target'].apply(lambda x:\"Non Toxic\" if x==0 else \"Toxic\" )\n",
        "Data_EDA[\"comment_length\"]=train['comment_text'].str.len()\n",
        "Data_EDA[\"comment_text\"]=train['comment_text']"
      ],
      "metadata": {
        "colab": {
          "base_uri": "https://localhost:8080/"
        },
        "id": "MdClXFtochLK",
        "outputId": "bb8691b2-77c4-496d-b163-6fe793fa9b1d"
      },
      "execution_count": null,
      "outputs": [
        {
          "output_type": "stream",
          "name": "stderr",
          "text": [
            "<ipython-input-16-285652356c4c>:1: DeprecationWarning: `np.int` is a deprecated alias for the builtin `int`. To silence this warning, use `int` by itself. Doing this will not modify any behavior and is safe. When replacing `np.int`, you may wish to use e.g. `np.int64` or `np.int32` to specify the precision. If you wish to review your current use, check the release note link for additional information.\n",
            "Deprecated in NumPy 1.20; for more details and guidance: https://numpy.org/devdocs/release/1.20.0-notes.html#deprecations\n",
            "  Data_EDA=pd.DataFrame({'target':(train['target'].values>=0.5).astype(bool).astype(np.int)})\n"
          ]
        }
      ]
    },
    {
      "cell_type": "code",
      "source": [
        "ax = sns.boxplot(x=\"Labels\", y=\"comment_length\", data=Data_EDA)"
      ],
      "metadata": {
        "colab": {
          "base_uri": "https://localhost:8080/",
          "height": 283
        },
        "id": "tqJ3YSRlcj0t",
        "outputId": "8e011c6b-7ffc-45c3-bc64-26ae11aa29e9"
      },
      "execution_count": null,
      "outputs": [
        {
          "output_type": "display_data",
          "data": {
            "text/plain": [
              "<Figure size 432x288 with 1 Axes>"
            ],
            "image/png": "[encoded data removed]"
          },
          "metadata": {
            "needs_background": "light"
          }
        }
      ]
    },
    {
      "cell_type": "code",
      "source": [
        "#looking for the percecntile values for toxic\n",
        "for i in range(0,100,10):\n",
        "    var =Data_EDA[Data_EDA[\"Labels\"]==\"Toxic\"][\"comment_length\"].values\n",
        "    var = np.sort(var,axis = None)\n",
        "    print(\"{} percentile value is {}\".format(i,var[int(len(var)*(float(i)/100))]))\n",
        "print (\"100 percentile value is \",var[-1])"
      ],
      "metadata": {
        "colab": {
          "base_uri": "https://localhost:8080/"
        },
        "id": "v1j7gtdUcmOV",
        "outputId": "b93c0b91-9fba-43fd-db08-5011d59e4c14"
      },
      "execution_count": null,
      "outputs": [
        {
          "output_type": "stream",
          "name": "stdout",
          "text": [
            "0 percentile value is 3\n",
            "10 percentile value is 52\n",
            "20 percentile value is 83\n",
            "30 percentile value is 115\n",
            "40 percentile value is 151\n",
            "50 percentile value is 195\n",
            "60 percentile value is 250\n",
            "70 percentile value is 324\n",
            "80 percentile value is 436\n",
            "90 percentile value is 652\n",
            "100 percentile value is  1000\n"
          ]
        }
      ]
    },
    {
      "cell_type": "code",
      "source": [
        "#looking for the percecntile values for non toxic\n",
        "for i in range(0,100,10):\n",
        "    var =Data_EDA[Data_EDA[\"Labels\"]==\"Non Toxic\"][\"comment_length\"].values\n",
        "    var = np.sort(var,axis = None)\n",
        "    print(\"{} percentile value is {}\".format(i,var[int(len(var)*(float(i)/100))]))\n",
        "print (\"100 percentile value is \",var[-1])"
      ],
      "metadata": {
        "colab": {
          "base_uri": "https://localhost:8080/"
        },
        "id": "8qM5_fHqcpct",
        "outputId": "861fca1c-a91b-4273-f2fd-6ea108e638e6"
      },
      "execution_count": null,
      "outputs": [
        {
          "output_type": "stream",
          "name": "stdout",
          "text": [
            "0 percentile value is 1\n",
            "10 percentile value is 47\n",
            "20 percentile value is 77\n",
            "30 percentile value is 111\n",
            "40 percentile value is 152\n",
            "50 percentile value is 203\n",
            "60 percentile value is 269\n",
            "70 percentile value is 358\n",
            "80 percentile value is 496\n",
            "90 percentile value is 755\n",
            "100 percentile value is  1906\n"
          ]
        }
      ]
    },
    {
      "cell_type": "code",
      "source": [
        "Data_EDA_len=Data_EDA[Data_EDA[\"comment_length\"]>1300]"
      ],
      "metadata": {
        "id": "0YsEwoAscssF"
      },
      "execution_count": null,
      "outputs": []
    },
    {
      "cell_type": "code",
      "source": [
        "Data_EDA_len"
      ],
      "metadata": {
        "colab": {
          "base_uri": "https://localhost:8080/",
          "height": 269
        },
        "id": "K_Rv4w7pcuXN",
        "outputId": "8a301a1b-72fe-4c67-a4ef-94191f335bde"
      },
      "execution_count": null,
      "outputs": [
        {
          "output_type": "execute_result",
          "data": {
            "text/plain": [
              "        target     Labels  comment_length  \\\n",
              "169          0  Non Toxic            1737   \n",
              "248          0  Non Toxic            1906   \n",
              "401          0  Non Toxic            1535   \n",
              "1894         0  Non Toxic            1891   \n",
              "33197        0  Non Toxic            1535   \n",
              "88955        0  Non Toxic            1535   \n",
              "115884       0  Non Toxic            1535   \n",
              "\n",
              "                                             comment_text  \n",
              "169     Am I missing something, because there's nothin...  \n",
              "248     Predatory patrol towing isn't a big subject, a...  \n",
              "401     I'm not a big fan of either, but I've seen bot...  \n",
              "1894    As usual WW plumbing the depths for deeper mea...  \n",
              "33197   I'm not a big fan of either, but I've seen bot...  \n",
              "88955   I'm not a big fan of either, but I've seen bot...  \n",
              "115884  I'm not a big fan of either, but I've seen bot...  "
            ],
            "text/html": [
              "\n",
              "  <div id=\"df-353b2f94-4523-40ff-a02a-22045ad15fd5\">\n",
              "    <div class=\"colab-df-container\">\n",
              "      <div>\n",
              "<style scoped>\n",
              "    .dataframe tbody tr th:only-of-type {\n",
              "        vertical-align: middle;\n",
              "    }\n",
              "\n",
              "    .dataframe tbody tr th {\n",
              "        vertical-align: top;\n",
              "    }\n",
              "\n",
              "    .dataframe thead th {\n",
              "        text-align: right;\n",
              "    }\n",
              "</style>\n",
              "<table border=\"1\" class=\"dataframe\">\n",
              "  <thead>\n",
              "    <tr style=\"text-align: right;\">\n",
              "      <th></th>\n",
              "      <th>target</th>\n",
              "      <th>Labels</th>\n",
              "      <th>comment_length</th>\n",
              "      <th>comment_text</th>\n",
              "    </tr>\n",
              "  </thead>\n",
              "  <tbody>\n",
              "    <tr>\n",
              "      <th>169</th>\n",
              "      <td>0</td>\n",
              "      <td>Non Toxic</td>\n",
              "      <td>1737</td>\n",
              "      <td>Am I missing something, because there's nothin...</td>\n",
              "    </tr>\n",
              "    <tr>\n",
              "      <th>248</th>\n",
              "      <td>0</td>\n",
              "      <td>Non Toxic</td>\n",
              "      <td>1906</td>\n",
              "      <td>Predatory patrol towing isn't a big subject, a...</td>\n",
              "    </tr>\n",
              "    <tr>\n",
              "      <th>401</th>\n",
              "      <td>0</td>\n",
              "      <td>Non Toxic</td>\n",
              "      <td>1535</td>\n",
              "      <td>I'm not a big fan of either, but I've seen bot...</td>\n",
              "    </tr>\n",
              "    <tr>\n",
              "      <th>1894</th>\n",
              "      <td>0</td>\n",
              "      <td>Non Toxic</td>\n",
              "      <td>1891</td>\n",
              "      <td>As usual WW plumbing the depths for deeper mea...</td>\n",
              "    </tr>\n",
              "    <tr>\n",
              "      <th>33197</th>\n",
              "      <td>0</td>\n",
              "      <td>Non Toxic</td>\n",
              "      <td>1535</td>\n",
              "      <td>I'm not a big fan of either, but I've seen bot...</td>\n",
              "    </tr>\n",
              "    <tr>\n",
              "      <th>88955</th>\n",
              "      <td>0</td>\n",
              "      <td>Non Toxic</td>\n",
              "      <td>1535</td>\n",
              "      <td>I'm not a big fan of either, but I've seen bot...</td>\n",
              "    </tr>\n",
              "    <tr>\n",
              "      <th>115884</th>\n",
              "      <td>0</td>\n",
              "      <td>Non Toxic</td>\n",
              "      <td>1535</td>\n",
              "      <td>I'm not a big fan of either, but I've seen bot...</td>\n",
              "    </tr>\n",
              "  </tbody>\n",
              "</table>\n",
              "</div>\n",
              "      <button class=\"colab-df-convert\" onclick=\"convertToInteractive('df-353b2f94-4523-40ff-a02a-22045ad15fd5')\"\n",
              "              title=\"Convert this dataframe to an interactive table.\"\n",
              "              style=\"display:none;\">\n",
              "        \n",
              "  <svg xmlns=\"http://www.w3.org/2000/svg\" height=\"24px\"viewBox=\"0 0 24 24\"\n",
              "       width=\"24px\">\n",
              "    <path d=\"M0 0h24v24H0V0z\" fill=\"none\"/>\n",
              "    <path d=\"M18.56 5.44l.94 2.06.94-2.06 2.06-.94-2.06-.94-.94-2.06-.94 2.06-2.06.94zm-11 1L8.5 8.5l.94-2.06 2.06-.94-2.06-.94L8.5 2.5l-.94 2.06-2.06.94zm10 10l.94 2.06.94-2.06 2.06-.94-2.06-.94-.94-2.06-.94 2.06-2.06.94z\"/><path d=\"M17.41 7.96l-1.37-1.37c-.4-.4-.92-.59-1.43-.59-.52 0-1.04.2-1.43.59L10.3 9.45l-7.72 7.72c-.78.78-.78 2.05 0 2.83L4 21.41c.39.39.9.59 1.41.59.51 0 1.02-.2 1.41-.59l7.78-7.78 2.81-2.81c.8-.78.8-2.07 0-2.86zM5.41 20L4 18.59l7.72-7.72 1.47 1.35L5.41 20z\"/>\n",
              "  </svg>\n",
              "      </button>\n",
              "      \n",
              "  <style>\n",
              "    .colab-df-container {\n",
              "      display:flex;\n",
              "      flex-wrap:wrap;\n",
              "      gap: 12px;\n",
              "    }\n",
              "\n",
              "    .colab-df-convert {\n",
              "      background-color: #E8F0FE;\n",
              "      border: none;\n",
              "      border-radius: 50%;\n",
              "      cursor: pointer;\n",
              "      display: none;\n",
              "      fill: #1967D2;\n",
              "      height: 32px;\n",
              "      padding: 0 0 0 0;\n",
              "      width: 32px;\n",
              "    }\n",
              "\n",
              "    .colab-df-convert:hover {\n",
              "      background-color: #E2EBFA;\n",
              "      box-shadow: 0px 1px 2px rgba(60, 64, 67, 0.3), 0px 1px 3px 1px rgba(60, 64, 67, 0.15);\n",
              "      fill: #174EA6;\n",
              "    }\n",
              "\n",
              "    [theme=dark] .colab-df-convert {\n",
              "      background-color: #3B4455;\n",
              "      fill: #D2E3FC;\n",
              "    }\n",
              "\n",
              "    [theme=dark] .colab-df-convert:hover {\n",
              "      background-color: #434B5C;\n",
              "      box-shadow: 0px 1px 3px 1px rgba(0, 0, 0, 0.15);\n",
              "      filter: drop-shadow(0px 1px 2px rgba(0, 0, 0, 0.3));\n",
              "      fill: #FFFFFF;\n",
              "    }\n",
              "  </style>\n",
              "\n",
              "      <script>\n",
              "        const buttonEl =\n",
              "          document.querySelector('#df-353b2f94-4523-40ff-a02a-22045ad15fd5 button.colab-df-convert');\n",
              "        buttonEl.style.display =\n",
              "          google.colab.kernel.accessAllowed ? 'block' : 'none';\n",
              "\n",
              "        async function convertToInteractive(key) {\n",
              "          const element = document.querySelector('#df-353b2f94-4523-40ff-a02a-22045ad15fd5');\n",
              "          const dataTable =\n",
              "            await google.colab.kernel.invokeFunction('convertToInteractive',\n",
              "                                                     [key], {});\n",
              "          if (!dataTable) return;\n",
              "\n",
              "          const docLinkHtml = 'Like what you see? Visit the ' +\n",
              "            '<a target=\"_blank\" href=https://colab.research.google.com/notebooks/data_table.ipynb>data table notebook</a>'\n",
              "            + ' to learn more about interactive tables.';\n",
              "          element.innerHTML = '';\n",
              "          dataTable['output_type'] = 'display_data';\n",
              "          await google.colab.output.renderOutput(dataTable, element);\n",
              "          const docLink = document.createElement('div');\n",
              "          docLink.innerHTML = docLinkHtml;\n",
              "          element.appendChild(docLink);\n",
              "        }\n",
              "      </script>\n",
              "    </div>\n",
              "  </div>\n",
              "  "
            ]
          },
          "metadata": {},
          "execution_count": 21
        }
      ]
    },
    {
      "cell_type": "code",
      "source": [
        "from nltk.corpus import stopwords \n",
        "from nltk.tokenize import word_tokenize \n",
        "import nltk\n",
        "nltk.download('stopwords')  \n",
        "stop_words = set(stopwords.words('english')) "
      ],
      "metadata": {
        "colab": {
          "base_uri": "https://localhost:8080/"
        },
        "id": "XJe9xPP4cx7l",
        "outputId": "c06f18ab-4d6b-475b-9195-3acca75c8f87"
      },
      "execution_count": null,
      "outputs": [
        {
          "output_type": "stream",
          "name": "stderr",
          "text": [
            "[nltk_data] Downloading package stopwords to /root/nltk_data...\n",
            "[nltk_data]   Package stopwords is already up-to-date!\n"
          ]
        }
      ]
    },
    {
      "cell_type": "code",
      "source": [
        "def wordDensity(text):\n",
        "    text=re.sub('[.,!?;:()*&^%$#@_+\\~\\'\"]', '', text)\n",
        "    words=text.split()\n",
        "    uniqueWords=set(words)\n",
        "    density=[]\n",
        "    if len(words)==0:\n",
        "        return 0   \n",
        "    for i in uniqueWords:       \n",
        "        density.append(words.count(i)/len(words))   \n",
        "    return sum(density)/len(density)  "
      ],
      "metadata": {
        "id": "bi1evsgOc0s9"
      },
      "execution_count": null,
      "outputs": []
    },
    {
      "cell_type": "code",
      "source": [
        "def numerical_features(df): \n",
        "    df['total_length'] = df['comment_text'].apply(len)\n",
        "    df['capitals'] = df['comment_text'].apply(lambda comment: sum(1 for c in comment if c.isupper()))\n",
        "    df['caps_vs_length'] = df.apply(lambda row: float(row['capitals'])/float(row['total_length']),axis=1)\n",
        "    df['num_exclamation_marks'] = df['comment_text'].apply(lambda comment: comment.count('!'))\n",
        "    df['num_question_marks'] = df['comment_text'].apply(lambda comment: comment.count('?'))\n",
        "    df['num_punctuation'] = df['comment_text'].apply(lambda comment: sum(comment.count(w) for w in '.,;:'))\n",
        "    df['num_symbols'] = df['comment_text'].apply(lambda comment: sum(comment.count(w) for w in '@^$*&$%`#'))\n",
        "    df['num_words'] = df['comment_text'].apply(lambda comment: len(comment.split()))\n",
        "    df['num_unique_words'] = df['comment_text'].apply(lambda comment: len(set(w for w in comment.split())))\n",
        "    df['words_vs_unique'] = df['num_unique_words'] / df['num_words']\n",
        "    df['num_smilies'] = df['comment_text'].apply(lambda comment: sum(comment.count(w) for w in (':-)', ':)', ';-)', ';)')))\n",
        "    df['word_density'] = df['comment_text'].apply(wordDensity)\n",
        "    df['num_stopWords']=df['comment_text'].apply(lambda comment: sum(1 for c in comment if c in stop_words))\n",
        "    df['num_nonStopWords']=df['comment_text'].apply(lambda comment: sum(1 for c in comment if c not in stop_words))\n",
        "    df['num_nonStopWords_density']=df.apply(lambda row: float(row['num_nonStopWords'])/(float(row['num_stopWords'])+float(row['num_nonStopWords'])),axis=1)\n",
        "    df['num_stopWords_density']=df.apply(lambda row: float(row['num_stopWords'])/(float(row['num_stopWords'])+float(row['num_nonStopWords'])),axis=1)\n",
        "    \n",
        "    return df"
      ],
      "metadata": {
        "id": "d2xDZmvbc201"
      },
      "execution_count": null,
      "outputs": []
    },
    {
      "cell_type": "code",
      "source": [
        "train[\"Labels\"]=Data_EDA[\"Labels\"]"
      ],
      "metadata": {
        "id": "63Lx-u3Ac5LN"
      },
      "execution_count": null,
      "outputs": []
    },
    {
      "cell_type": "code",
      "source": [
        "train=numerical_features(train)"
      ],
      "metadata": {
        "id": "gBmUiNgRc7jF"
      },
      "execution_count": null,
      "outputs": []
    },
    {
      "cell_type": "code",
      "source": [
        "submission_TFIDF = numerical_features(submission_TFIDF)"
      ],
      "metadata": {
        "id": "DDurIQH3lRhP"
      },
      "execution_count": null,
      "outputs": []
    },
    {
      "cell_type": "code",
      "source": [
        "submission_TFIDF.head()"
      ],
      "metadata": {
        "colab": {
          "base_uri": "https://localhost:8080/",
          "height": 565
        },
        "id": "KR7s_sOglc7_",
        "outputId": "76eea7dc-fb4c-416d-96a3-fc57cc9e0d4e"
      },
      "execution_count": null,
      "outputs": [
        {
          "output_type": "execute_result",
          "data": {
            "text/plain": [
              "        id                                       comment_text  total_length  \\\n",
              "0  7097320  [ Integrity means that you pay your debts.]\\n\\...            84   \n",
              "1  7097321  This is malfeasance by the Administrator and t...            84   \n",
              "2  7097322  @Rmiller101 - Spoken like a true elitist. But ...           198   \n",
              "3  7097323  Paul: Thank you for your kind words.  I do, in...           993   \n",
              "4  7097324  Sorry you missed high school. Eisenhower sent ...           345   \n",
              "\n",
              "   capitals  caps_vs_length  num_exclamation_marks  num_question_marks  \\\n",
              "0         4        0.047619                      0                   1   \n",
              "1         4        0.047619                      1                   0   \n",
              "2         8        0.040404                      0                   0   \n",
              "3        31        0.031219                      0                   0   \n",
              "4        18        0.052174                      0                   0   \n",
              "\n",
              "   num_punctuation  num_symbols  num_words  num_unique_words  words_vs_unique  \\\n",
              "0                1            0         15                15         1.000000   \n",
              "1                1            0         14                13         0.928571   \n",
              "2                5            1         35                31         0.885714   \n",
              "3               37            0        162               114         0.703704   \n",
              "4                3            2         65                51         0.784615   \n",
              "\n",
              "   num_smilies  word_density  num_stopWords  num_nonStopWords  \\\n",
              "0            0      0.066667             36                48   \n",
              "1            0      0.076923             36                48   \n",
              "2            0      0.032258             59               139   \n",
              "3            0      0.009804            358               635   \n",
              "4            0      0.020000            122               223   \n",
              "\n",
              "   num_nonStopWords_density  num_stopWords_density  \n",
              "0                  0.571429               0.428571  \n",
              "1                  0.571429               0.428571  \n",
              "2                  0.702020               0.297980  \n",
              "3                  0.639476               0.360524  \n",
              "4                  0.646377               0.353623  "
            ],
            "text/html": [
              "\n",
              "  <div id=\"df-452f2127-21c0-436b-aa4b-9d88e350c103\">\n",
              "    <div class=\"colab-df-container\">\n",
              "      <div>\n",
              "<style scoped>\n",
              "    .dataframe tbody tr th:only-of-type {\n",
              "        vertical-align: middle;\n",
              "    }\n",
              "\n",
              "    .dataframe tbody tr th {\n",
              "        vertical-align: top;\n",
              "    }\n",
              "\n",
              "    .dataframe thead th {\n",
              "        text-align: right;\n",
              "    }\n",
              "</style>\n",
              "<table border=\"1\" class=\"dataframe\">\n",
              "  <thead>\n",
              "    <tr style=\"text-align: right;\">\n",
              "      <th></th>\n",
              "      <th>id</th>\n",
              "      <th>comment_text</th>\n",
              "      <th>total_length</th>\n",
              "      <th>capitals</th>\n",
              "      <th>caps_vs_length</th>\n",
              "      <th>num_exclamation_marks</th>\n",
              "      <th>num_question_marks</th>\n",
              "      <th>num_punctuation</th>\n",
              "      <th>num_symbols</th>\n",
              "      <th>num_words</th>\n",
              "      <th>num_unique_words</th>\n",
              "      <th>words_vs_unique</th>\n",
              "      <th>num_smilies</th>\n",
              "      <th>word_density</th>\n",
              "      <th>num_stopWords</th>\n",
              "      <th>num_nonStopWords</th>\n",
              "      <th>num_nonStopWords_density</th>\n",
              "      <th>num_stopWords_density</th>\n",
              "    </tr>\n",
              "  </thead>\n",
              "  <tbody>\n",
              "    <tr>\n",
              "      <th>0</th>\n",
              "      <td>7097320</td>\n",
              "      <td>[ Integrity means that you pay your debts.]\\n\\...</td>\n",
              "      <td>84</td>\n",
              "      <td>4</td>\n",
              "      <td>0.047619</td>\n",
              "      <td>0</td>\n",
              "      <td>1</td>\n",
              "      <td>1</td>\n",
              "      <td>0</td>\n",
              "      <td>15</td>\n",
              "      <td>15</td>\n",
              "      <td>1.000000</td>\n",
              "      <td>0</td>\n",
              "      <td>0.066667</td>\n",
              "      <td>36</td>\n",
              "      <td>48</td>\n",
              "      <td>0.571429</td>\n",
              "      <td>0.428571</td>\n",
              "    </tr>\n",
              "    <tr>\n",
              "      <th>1</th>\n",
              "      <td>7097321</td>\n",
              "      <td>This is malfeasance by the Administrator and t...</td>\n",
              "      <td>84</td>\n",
              "      <td>4</td>\n",
              "      <td>0.047619</td>\n",
              "      <td>1</td>\n",
              "      <td>0</td>\n",
              "      <td>1</td>\n",
              "      <td>0</td>\n",
              "      <td>14</td>\n",
              "      <td>13</td>\n",
              "      <td>0.928571</td>\n",
              "      <td>0</td>\n",
              "      <td>0.076923</td>\n",
              "      <td>36</td>\n",
              "      <td>48</td>\n",
              "      <td>0.571429</td>\n",
              "      <td>0.428571</td>\n",
              "    </tr>\n",
              "    <tr>\n",
              "      <th>2</th>\n",
              "      <td>7097322</td>\n",
              "      <td>@Rmiller101 - Spoken like a true elitist. But ...</td>\n",
              "      <td>198</td>\n",
              "      <td>8</td>\n",
              "      <td>0.040404</td>\n",
              "      <td>0</td>\n",
              "      <td>0</td>\n",
              "      <td>5</td>\n",
              "      <td>1</td>\n",
              "      <td>35</td>\n",
              "      <td>31</td>\n",
              "      <td>0.885714</td>\n",
              "      <td>0</td>\n",
              "      <td>0.032258</td>\n",
              "      <td>59</td>\n",
              "      <td>139</td>\n",
              "      <td>0.702020</td>\n",
              "      <td>0.297980</td>\n",
              "    </tr>\n",
              "    <tr>\n",
              "      <th>3</th>\n",
              "      <td>7097323</td>\n",
              "      <td>Paul: Thank you for your kind words.  I do, in...</td>\n",
              "      <td>993</td>\n",
              "      <td>31</td>\n",
              "      <td>0.031219</td>\n",
              "      <td>0</td>\n",
              "      <td>0</td>\n",
              "      <td>37</td>\n",
              "      <td>0</td>\n",
              "      <td>162</td>\n",
              "      <td>114</td>\n",
              "      <td>0.703704</td>\n",
              "      <td>0</td>\n",
              "      <td>0.009804</td>\n",
              "      <td>358</td>\n",
              "      <td>635</td>\n",
              "      <td>0.639476</td>\n",
              "      <td>0.360524</td>\n",
              "    </tr>\n",
              "    <tr>\n",
              "      <th>4</th>\n",
              "      <td>7097324</td>\n",
              "      <td>Sorry you missed high school. Eisenhower sent ...</td>\n",
              "      <td>345</td>\n",
              "      <td>18</td>\n",
              "      <td>0.052174</td>\n",
              "      <td>0</td>\n",
              "      <td>0</td>\n",
              "      <td>3</td>\n",
              "      <td>2</td>\n",
              "      <td>65</td>\n",
              "      <td>51</td>\n",
              "      <td>0.784615</td>\n",
              "      <td>0</td>\n",
              "      <td>0.020000</td>\n",
              "      <td>122</td>\n",
              "      <td>223</td>\n",
              "      <td>0.646377</td>\n",
              "      <td>0.353623</td>\n",
              "    </tr>\n",
              "  </tbody>\n",
              "</table>\n",
              "</div>\n",
              "      <button class=\"colab-df-convert\" onclick=\"convertToInteractive('df-452f2127-21c0-436b-aa4b-9d88e350c103')\"\n",
              "              title=\"Convert this dataframe to an interactive table.\"\n",
              "              style=\"display:none;\">\n",
              "        \n",
              "  <svg xmlns=\"http://www.w3.org/2000/svg\" height=\"24px\"viewBox=\"0 0 24 24\"\n",
              "       width=\"24px\">\n",
              "    <path d=\"M0 0h24v24H0V0z\" fill=\"none\"/>\n",
              "    <path d=\"M18.56 5.44l.94 2.06.94-2.06 2.06-.94-2.06-.94-.94-2.06-.94 2.06-2.06.94zm-11 1L8.5 8.5l.94-2.06 2.06-.94-2.06-.94L8.5 2.5l-.94 2.06-2.06.94zm10 10l.94 2.06.94-2.06 2.06-.94-2.06-.94-.94-2.06-.94 2.06-2.06.94z\"/><path d=\"M17.41 7.96l-1.37-1.37c-.4-.4-.92-.59-1.43-.59-.52 0-1.04.2-1.43.59L10.3 9.45l-7.72 7.72c-.78.78-.78 2.05 0 2.83L4 21.41c.39.39.9.59 1.41.59.51 0 1.02-.2 1.41-.59l7.78-7.78 2.81-2.81c.8-.78.8-2.07 0-2.86zM5.41 20L4 18.59l7.72-7.72 1.47 1.35L5.41 20z\"/>\n",
              "  </svg>\n",
              "      </button>\n",
              "      \n",
              "  <style>\n",
              "    .colab-df-container {\n",
              "      display:flex;\n",
              "      flex-wrap:wrap;\n",
              "      gap: 12px;\n",
              "    }\n",
              "\n",
              "    .colab-df-convert {\n",
              "      background-color: #E8F0FE;\n",
              "      border: none;\n",
              "      border-radius: 50%;\n",
              "      cursor: pointer;\n",
              "      display: none;\n",
              "      fill: #1967D2;\n",
              "      height: 32px;\n",
              "      padding: 0 0 0 0;\n",
              "      width: 32px;\n",
              "    }\n",
              "\n",
              "    .colab-df-convert:hover {\n",
              "      background-color: #E2EBFA;\n",
              "      box-shadow: 0px 1px 2px rgba(60, 64, 67, 0.3), 0px 1px 3px 1px rgba(60, 64, 67, 0.15);\n",
              "      fill: #174EA6;\n",
              "    }\n",
              "\n",
              "    [theme=dark] .colab-df-convert {\n",
              "      background-color: #3B4455;\n",
              "      fill: #D2E3FC;\n",
              "    }\n",
              "\n",
              "    [theme=dark] .colab-df-convert:hover {\n",
              "      background-color: #434B5C;\n",
              "      box-shadow: 0px 1px 3px 1px rgba(0, 0, 0, 0.15);\n",
              "      filter: drop-shadow(0px 1px 2px rgba(0, 0, 0, 0.3));\n",
              "      fill: #FFFFFF;\n",
              "    }\n",
              "  </style>\n",
              "\n",
              "      <script>\n",
              "        const buttonEl =\n",
              "          document.querySelector('#df-452f2127-21c0-436b-aa4b-9d88e350c103 button.colab-df-convert');\n",
              "        buttonEl.style.display =\n",
              "          google.colab.kernel.accessAllowed ? 'block' : 'none';\n",
              "\n",
              "        async function convertToInteractive(key) {\n",
              "          const element = document.querySelector('#df-452f2127-21c0-436b-aa4b-9d88e350c103');\n",
              "          const dataTable =\n",
              "            await google.colab.kernel.invokeFunction('convertToInteractive',\n",
              "                                                     [key], {});\n",
              "          if (!dataTable) return;\n",
              "\n",
              "          const docLinkHtml = 'Like what you see? Visit the ' +\n",
              "            '<a target=\"_blank\" href=https://colab.research.google.com/notebooks/data_table.ipynb>data table notebook</a>'\n",
              "            + ' to learn more about interactive tables.';\n",
              "          element.innerHTML = '';\n",
              "          dataTable['output_type'] = 'display_data';\n",
              "          await google.colab.output.renderOutput(dataTable, element);\n",
              "          const docLink = document.createElement('div');\n",
              "          docLink.innerHTML = docLinkHtml;\n",
              "          element.appendChild(docLink);\n",
              "        }\n",
              "      </script>\n",
              "    </div>\n",
              "  </div>\n",
              "  "
            ]
          },
          "metadata": {},
          "execution_count": 28
        }
      ]
    },
    {
      "cell_type": "code",
      "source": [
        "train['num_stopWords_density']"
      ],
      "metadata": {
        "colab": {
          "base_uri": "https://localhost:8080/"
        },
        "id": "q_0uuWgUlht-",
        "outputId": "ed747785-23ed-456e-c217-ac1c4eb5ea2c"
      },
      "execution_count": null,
      "outputs": [
        {
          "output_type": "execute_result",
          "data": {
            "text/plain": [
              "0          0.376238\n",
              "1          0.359649\n",
              "2          0.372093\n",
              "3          0.357143\n",
              "4          0.333333\n",
              "             ...   \n",
              "1804869    0.345178\n",
              "1804870    0.324324\n",
              "1804871    0.333333\n",
              "1804872    0.345404\n",
              "1804873    0.365217\n",
              "Name: num_stopWords_density, Length: 1804874, dtype: float64"
            ]
          },
          "metadata": {},
          "execution_count": 29
        }
      ]
    },
    {
      "cell_type": "code",
      "source": [
        "train.head()"
      ],
      "metadata": {
        "colab": {
          "base_uri": "https://localhost:8080/",
          "height": 594
        },
        "id": "itWl0SU4oeFu",
        "outputId": "b1e86fa8-3181-4feb-8e7a-385ccfe68872"
      },
      "execution_count": null,
      "outputs": [
        {
          "output_type": "execute_result",
          "data": {
            "text/plain": [
              "      id    target                                       comment_text  \\\n",
              "0  59848  0.000000  This is so cool. It's like, 'would you want yo...   \n",
              "1  59849  0.000000  Thank you!! This would make my life a lot less...   \n",
              "2  59852  0.000000  This is such an urgent design problem; kudos t...   \n",
              "3  59855  0.000000  Is this something I'll be able to install on m...   \n",
              "4  59856  0.893617               haha you guys are a bunch of losers.   \n",
              "\n",
              "   severe_toxicity  obscene  identity_attack   insult  threat  asian  atheist  \\\n",
              "0         0.000000      0.0         0.000000  0.00000     0.0    NaN      NaN   \n",
              "1         0.000000      0.0         0.000000  0.00000     0.0    NaN      NaN   \n",
              "2         0.000000      0.0         0.000000  0.00000     0.0    NaN      NaN   \n",
              "3         0.000000      0.0         0.000000  0.00000     0.0    NaN      NaN   \n",
              "4         0.021277      0.0         0.021277  0.87234     0.0    0.0      0.0   \n",
              "\n",
              "   ...  num_symbols  num_words  num_unique_words  words_vs_unique  \\\n",
              "0  ...            0         19                19         1.000000   \n",
              "1  ...            0         22                22         1.000000   \n",
              "2  ...            0         16                16         1.000000   \n",
              "3  ...            0         17                16         0.941176   \n",
              "4  ...            0          8                 8         1.000000   \n",
              "\n",
              "   num_smilies  word_density  num_stopWords  num_nonStopWords  \\\n",
              "0            0      0.052632             38                63   \n",
              "1            0      0.045455             41                73   \n",
              "2            0      0.062500             32                54   \n",
              "3            0      0.062500             30                54   \n",
              "4            0      0.125000             12                24   \n",
              "\n",
              "   num_nonStopWords_density  num_stopWords_density  \n",
              "0                  0.623762               0.376238  \n",
              "1                  0.640351               0.359649  \n",
              "2                  0.627907               0.372093  \n",
              "3                  0.642857               0.357143  \n",
              "4                  0.666667               0.333333  \n",
              "\n",
              "[5 rows x 62 columns]"
            ],
            "text/html": [
              "\n",
              "  <div id=\"df-bddfdafb-ff3c-4583-84ea-52e7c17e5972\">\n",
              "    <div class=\"colab-df-container\">\n",
              "      <div>\n",
              "<style scoped>\n",
              "    .dataframe tbody tr th:only-of-type {\n",
              "        vertical-align: middle;\n",
              "    }\n",
              "\n",
              "    .dataframe tbody tr th {\n",
              "        vertical-align: top;\n",
              "    }\n",
              "\n",
              "    .dataframe thead th {\n",
              "        text-align: right;\n",
              "    }\n",
              "</style>\n",
              "<table border=\"1\" class=\"dataframe\">\n",
              "  <thead>\n",
              "    <tr style=\"text-align: right;\">\n",
              "      <th></th>\n",
              "      <th>id</th>\n",
              "      <th>target</th>\n",
              "      <th>comment_text</th>\n",
              "      <th>severe_toxicity</th>\n",
              "      <th>obscene</th>\n",
              "      <th>identity_attack</th>\n",
              "      <th>insult</th>\n",
              "      <th>threat</th>\n",
              "      <th>asian</th>\n",
              "      <th>atheist</th>\n",
              "      <th>...</th>\n",
              "      <th>num_symbols</th>\n",
              "      <th>num_words</th>\n",
              "      <th>num_unique_words</th>\n",
              "      <th>words_vs_unique</th>\n",
              "      <th>num_smilies</th>\n",
              "      <th>word_density</th>\n",
              "      <th>num_stopWords</th>\n",
              "      <th>num_nonStopWords</th>\n",
              "      <th>num_nonStopWords_density</th>\n",
              "      <th>num_stopWords_density</th>\n",
              "    </tr>\n",
              "  </thead>\n",
              "  <tbody>\n",
              "    <tr>\n",
              "      <th>0</th>\n",
              "      <td>59848</td>\n",
              "      <td>0.000000</td>\n",
              "      <td>This is so cool. It's like, 'would you want yo...</td>\n",
              "      <td>0.000000</td>\n",
              "      <td>0.0</td>\n",
              "      <td>0.000000</td>\n",
              "      <td>0.00000</td>\n",
              "      <td>0.0</td>\n",
              "      <td>NaN</td>\n",
              "      <td>NaN</td>\n",
              "      <td>...</td>\n",
              "      <td>0</td>\n",
              "      <td>19</td>\n",
              "      <td>19</td>\n",
              "      <td>1.000000</td>\n",
              "      <td>0</td>\n",
              "      <td>0.052632</td>\n",
              "      <td>38</td>\n",
              "      <td>63</td>\n",
              "      <td>0.623762</td>\n",
              "      <td>0.376238</td>\n",
              "    </tr>\n",
              "    <tr>\n",
              "      <th>1</th>\n",
              "      <td>59849</td>\n",
              "      <td>0.000000</td>\n",
              "      <td>Thank you!! This would make my life a lot less...</td>\n",
              "      <td>0.000000</td>\n",
              "      <td>0.0</td>\n",
              "      <td>0.000000</td>\n",
              "      <td>0.00000</td>\n",
              "      <td>0.0</td>\n",
              "      <td>NaN</td>\n",
              "      <td>NaN</td>\n",
              "      <td>...</td>\n",
              "      <td>0</td>\n",
              "      <td>22</td>\n",
              "      <td>22</td>\n",
              "      <td>1.000000</td>\n",
              "      <td>0</td>\n",
              "      <td>0.045455</td>\n",
              "      <td>41</td>\n",
              "      <td>73</td>\n",
              "      <td>0.640351</td>\n",
              "      <td>0.359649</td>\n",
              "    </tr>\n",
              "    <tr>\n",
              "      <th>2</th>\n",
              "      <td>59852</td>\n",
              "      <td>0.000000</td>\n",
              "      <td>This is such an urgent design problem; kudos t...</td>\n",
              "      <td>0.000000</td>\n",
              "      <td>0.0</td>\n",
              "      <td>0.000000</td>\n",
              "      <td>0.00000</td>\n",
              "      <td>0.0</td>\n",
              "      <td>NaN</td>\n",
              "      <td>NaN</td>\n",
              "      <td>...</td>\n",
              "      <td>0</td>\n",
              "      <td>16</td>\n",
              "      <td>16</td>\n",
              "      <td>1.000000</td>\n",
              "      <td>0</td>\n",
              "      <td>0.062500</td>\n",
              "      <td>32</td>\n",
              "      <td>54</td>\n",
              "      <td>0.627907</td>\n",
              "      <td>0.372093</td>\n",
              "    </tr>\n",
              "    <tr>\n",
              "      <th>3</th>\n",
              "      <td>59855</td>\n",
              "      <td>0.000000</td>\n",
              "      <td>Is this something I'll be able to install on m...</td>\n",
              "      <td>0.000000</td>\n",
              "      <td>0.0</td>\n",
              "      <td>0.000000</td>\n",
              "      <td>0.00000</td>\n",
              "      <td>0.0</td>\n",
              "      <td>NaN</td>\n",
              "      <td>NaN</td>\n",
              "      <td>...</td>\n",
              "      <td>0</td>\n",
              "      <td>17</td>\n",
              "      <td>16</td>\n",
              "      <td>0.941176</td>\n",
              "      <td>0</td>\n",
              "      <td>0.062500</td>\n",
              "      <td>30</td>\n",
              "      <td>54</td>\n",
              "      <td>0.642857</td>\n",
              "      <td>0.357143</td>\n",
              "    </tr>\n",
              "    <tr>\n",
              "      <th>4</th>\n",
              "      <td>59856</td>\n",
              "      <td>0.893617</td>\n",
              "      <td>haha you guys are a bunch of losers.</td>\n",
              "      <td>0.021277</td>\n",
              "      <td>0.0</td>\n",
              "      <td>0.021277</td>\n",
              "      <td>0.87234</td>\n",
              "      <td>0.0</td>\n",
              "      <td>0.0</td>\n",
              "      <td>0.0</td>\n",
              "      <td>...</td>\n",
              "      <td>0</td>\n",
              "      <td>8</td>\n",
              "      <td>8</td>\n",
              "      <td>1.000000</td>\n",
              "      <td>0</td>\n",
              "      <td>0.125000</td>\n",
              "      <td>12</td>\n",
              "      <td>24</td>\n",
              "      <td>0.666667</td>\n",
              "      <td>0.333333</td>\n",
              "    </tr>\n",
              "  </tbody>\n",
              "</table>\n",
              "<p>5 rows × 62 columns</p>\n",
              "</div>\n",
              "      <button class=\"colab-df-convert\" onclick=\"convertToInteractive('df-bddfdafb-ff3c-4583-84ea-52e7c17e5972')\"\n",
              "              title=\"Convert this dataframe to an interactive table.\"\n",
              "              style=\"display:none;\">\n",
              "        \n",
              "  <svg xmlns=\"http://www.w3.org/2000/svg\" height=\"24px\"viewBox=\"0 0 24 24\"\n",
              "       width=\"24px\">\n",
              "    <path d=\"M0 0h24v24H0V0z\" fill=\"none\"/>\n",
              "    <path d=\"M18.56 5.44l.94 2.06.94-2.06 2.06-.94-2.06-.94-.94-2.06-.94 2.06-2.06.94zm-11 1L8.5 8.5l.94-2.06 2.06-.94-2.06-.94L8.5 2.5l-.94 2.06-2.06.94zm10 10l.94 2.06.94-2.06 2.06-.94-2.06-.94-.94-2.06-.94 2.06-2.06.94z\"/><path d=\"M17.41 7.96l-1.37-1.37c-.4-.4-.92-.59-1.43-.59-.52 0-1.04.2-1.43.59L10.3 9.45l-7.72 7.72c-.78.78-.78 2.05 0 2.83L4 21.41c.39.39.9.59 1.41.59.51 0 1.02-.2 1.41-.59l7.78-7.78 2.81-2.81c.8-.78.8-2.07 0-2.86zM5.41 20L4 18.59l7.72-7.72 1.47 1.35L5.41 20z\"/>\n",
              "  </svg>\n",
              "      </button>\n",
              "      \n",
              "  <style>\n",
              "    .colab-df-container {\n",
              "      display:flex;\n",
              "      flex-wrap:wrap;\n",
              "      gap: 12px;\n",
              "    }\n",
              "\n",
              "    .colab-df-convert {\n",
              "      background-color: #E8F0FE;\n",
              "      border: none;\n",
              "      border-radius: 50%;\n",
              "      cursor: pointer;\n",
              "      display: none;\n",
              "      fill: #1967D2;\n",
              "      height: 32px;\n",
              "      padding: 0 0 0 0;\n",
              "      width: 32px;\n",
              "    }\n",
              "\n",
              "    .colab-df-convert:hover {\n",
              "      background-color: #E2EBFA;\n",
              "      box-shadow: 0px 1px 2px rgba(60, 64, 67, 0.3), 0px 1px 3px 1px rgba(60, 64, 67, 0.15);\n",
              "      fill: #174EA6;\n",
              "    }\n",
              "\n",
              "    [theme=dark] .colab-df-convert {\n",
              "      background-color: #3B4455;\n",
              "      fill: #D2E3FC;\n",
              "    }\n",
              "\n",
              "    [theme=dark] .colab-df-convert:hover {\n",
              "      background-color: #434B5C;\n",
              "      box-shadow: 0px 1px 3px 1px rgba(0, 0, 0, 0.15);\n",
              "      filter: drop-shadow(0px 1px 2px rgba(0, 0, 0, 0.3));\n",
              "      fill: #FFFFFF;\n",
              "    }\n",
              "  </style>\n",
              "\n",
              "      <script>\n",
              "        const buttonEl =\n",
              "          document.querySelector('#df-bddfdafb-ff3c-4583-84ea-52e7c17e5972 button.colab-df-convert');\n",
              "        buttonEl.style.display =\n",
              "          google.colab.kernel.accessAllowed ? 'block' : 'none';\n",
              "\n",
              "        async function convertToInteractive(key) {\n",
              "          const element = document.querySelector('#df-bddfdafb-ff3c-4583-84ea-52e7c17e5972');\n",
              "          const dataTable =\n",
              "            await google.colab.kernel.invokeFunction('convertToInteractive',\n",
              "                                                     [key], {});\n",
              "          if (!dataTable) return;\n",
              "\n",
              "          const docLinkHtml = 'Like what you see? Visit the ' +\n",
              "            '<a target=\"_blank\" href=https://colab.research.google.com/notebooks/data_table.ipynb>data table notebook</a>'\n",
              "            + ' to learn more about interactive tables.';\n",
              "          element.innerHTML = '';\n",
              "          dataTable['output_type'] = 'display_data';\n",
              "          await google.colab.output.renderOutput(dataTable, element);\n",
              "          const docLink = document.createElement('div');\n",
              "          docLink.innerHTML = docLinkHtml;\n",
              "          element.appendChild(docLink);\n",
              "        }\n",
              "      </script>\n",
              "    </div>\n",
              "  </div>\n",
              "  "
            ]
          },
          "metadata": {},
          "execution_count": 30
        }
      ]
    },
    {
      "cell_type": "code",
      "source": [
        "# proposed evalution matrix\n",
        "SUBGROUP_AUC = 'subgroup_auc'\n",
        "BPSN_AUC = 'bpsn_auc'  # stands for background positive, subgroup negative\n",
        "BNSP_AUC = 'bnsp_auc'  # stands for background negative, subgroup positive\n",
        "\n",
        "def compute_auc(y_true, y_pred):\n",
        "    try:\n",
        "        return metrics.roc_auc_score(y_true, y_pred)\n",
        "    except ValueError:\n",
        "        return np.nan\n",
        "\n",
        "def compute_subgroup_auc(df, subgroup, label, model_name):\n",
        "    subgroup_examples = df[df[subgroup]]\n",
        "    return compute_auc(subgroup_examples[label], subgroup_examples[model_name])\n",
        "\n",
        "def compute_bpsn_auc(df, subgroup, label, model_name):\n",
        "    \"\"\"Computes the AUC of the within-subgroup negative examples and the background positive examples.\"\"\"\n",
        "    subgroup_negative_examples = df[df[subgroup] & ~df[label]]\n",
        "    non_subgroup_positive_examples = df[~df[subgroup] & df[label]]\n",
        "    examples = subgroup_negative_examples.append(non_subgroup_positive_examples)\n",
        "    return compute_auc(examples[label], examples[model_name])\n",
        "\n",
        "def compute_bnsp_auc(df, subgroup, label, model_name):\n",
        "    \"\"\"Computes the AUC of the within-subgroup positive examples and the background negative examples.\"\"\"\n",
        "    subgroup_positive_examples = df[df[subgroup] & df[label]]\n",
        "    non_subgroup_negative_examples = df[~df[subgroup] & ~df[label]]\n",
        "    examples = subgroup_positive_examples.append(non_subgroup_negative_examples)\n",
        "    return compute_auc(examples[label], examples[model_name])\n",
        "\n",
        "def compute_bias_metrics_for_model(dataset,\n",
        "                                   subgroups,\n",
        "                                   model,\n",
        "                                   label_col,\n",
        "                                   include_asegs=False):\n",
        "    \"\"\"Computes per-subgroup metrics for all subgroups and one model.\"\"\"\n",
        "    records = []\n",
        "    for subgroup in subgroups:\n",
        "        record = {\n",
        "            'subgroup': subgroup,\n",
        "            'subgroup_size': len(dataset[dataset[subgroup]])\n",
        "        }\n",
        "        record[SUBGROUP_AUC] = compute_subgroup_auc(dataset, subgroup, label_col, model)\n",
        "        record[BPSN_AUC] = compute_bpsn_auc(dataset, subgroup, label_col, model)\n",
        "        record[BNSP_AUC] = compute_bnsp_auc(dataset, subgroup, label_col, model)\n",
        "        records.append(record)\n",
        "    return pd.DataFrame(records).sort_values('subgroup_auc', ascending=True)"
      ],
      "metadata": {
        "id": "15h273d1esdO"
      },
      "execution_count": null,
      "outputs": []
    },
    {
      "cell_type": "code",
      "source": [
        "def calculate_overall_auc(df, model_name):\n",
        "    true_labels = df[TOXICITY_COLUMN]\n",
        "    predicted_labels = df[model_name]\n",
        "    return metrics.roc_auc_score(true_labels, predicted_labels)\n",
        "\n",
        "def power_mean(series, p):\n",
        "    total = sum(np.power(series, p))\n",
        "    return np.power(total / len(series), 1 / p)\n",
        "\n",
        "def get_final_metric(bias_df, overall_auc, POWER=-5, OVERALL_MODEL_WEIGHT=0.25):\n",
        "    bias_score = np.average([\n",
        "        power_mean(bias_df[SUBGROUP_AUC], POWER),\n",
        "        power_mean(bias_df[BPSN_AUC], POWER),\n",
        "        power_mean(bias_df[BNSP_AUC], POWER)\n",
        "    ])\n",
        "    return (OVERALL_MODEL_WEIGHT * overall_auc) + ((1 - OVERALL_MODEL_WEIGHT) * bias_score)\n",
        "    \n",
        "#get_final_metric(bias_metrics_df, calculate_overall_auc(X_test_TFIDF, MODEL_NAME))"
      ],
      "metadata": {
        "id": "Gr9PBZ7le6L-"
      },
      "execution_count": null,
      "outputs": []
    },
    {
      "cell_type": "code",
      "source": [
        "train_TFIDF = train.copy()#pd.read_csv('../input/train.csv')\n",
        "#submission_TFIDF = pd.read_csv('/content/drive/MyDrive/dataset/test.csv')"
      ],
      "metadata": {
        "id": "yIXUBD65e-I2"
      },
      "execution_count": null,
      "outputs": []
    },
    {
      "cell_type": "code",
      "source": [
        "submission_TFIDF.columns"
      ],
      "metadata": {
        "colab": {
          "base_uri": "https://localhost:8080/"
        },
        "id": "7FHzAK2ZfC5u",
        "outputId": "6cd244a1-cce4-4aca-c7ab-59c39bf3c8b9"
      },
      "execution_count": null,
      "outputs": [
        {
          "output_type": "execute_result",
          "data": {
            "text/plain": [
              "Index(['id', 'comment_text', 'total_length', 'capitals', 'caps_vs_length',\n",
              "       'num_exclamation_marks', 'num_question_marks', 'num_punctuation',\n",
              "       'num_symbols', 'num_words', 'num_unique_words', 'words_vs_unique',\n",
              "       'num_smilies', 'word_density', 'num_stopWords', 'num_nonStopWords',\n",
              "       'num_nonStopWords_density', 'num_stopWords_density'],\n",
              "      dtype='object')"
            ]
          },
          "metadata": {},
          "execution_count": 34
        }
      ]
    },
    {
      "cell_type": "code",
      "source": [
        "train_TFIDF.columns"
      ],
      "metadata": {
        "colab": {
          "base_uri": "https://localhost:8080/"
        },
        "id": "bk8j-1gMfGCG",
        "outputId": "11c4a4bb-0a26-4554-967e-510e55f07b1d"
      },
      "execution_count": null,
      "outputs": [
        {
          "output_type": "execute_result",
          "data": {
            "text/plain": [
              "Index(['id', 'target', 'comment_text', 'severe_toxicity', 'obscene',\n",
              "       'identity_attack', 'insult', 'threat', 'asian', 'atheist', 'bisexual',\n",
              "       'black', 'buddhist', 'christian', 'female', 'heterosexual', 'hindu',\n",
              "       'homosexual_gay_or_lesbian', 'intellectual_or_learning_disability',\n",
              "       'jewish', 'latino', 'male', 'muslim', 'other_disability',\n",
              "       'other_gender', 'other_race_or_ethnicity', 'other_religion',\n",
              "       'other_sexual_orientation', 'physical_disability',\n",
              "       'psychiatric_or_mental_illness', 'transgender', 'white', 'created_date',\n",
              "       'publication_id', 'parent_id', 'article_id', 'rating', 'funny', 'wow',\n",
              "       'sad', 'likes', 'disagree', 'sexual_explicit',\n",
              "       'identity_annotator_count', 'toxicity_annotator_count', 'Labels',\n",
              "       'total_length', 'capitals', 'caps_vs_length', 'num_exclamation_marks',\n",
              "       'num_question_marks', 'num_punctuation', 'num_symbols', 'num_words',\n",
              "       'num_unique_words', 'words_vs_unique', 'num_smilies', 'word_density',\n",
              "       'num_stopWords', 'num_nonStopWords', 'num_nonStopWords_density',\n",
              "       'num_stopWords_density'],\n",
              "      dtype='object')"
            ]
          },
          "metadata": {},
          "execution_count": 35
        }
      ]
    },
    {
      "cell_type": "code",
      "source": [
        "submission_TFIDF.head()"
      ],
      "metadata": {
        "colab": {
          "base_uri": "https://localhost:8080/",
          "height": 565
        },
        "id": "AuNYlFJOfIrO",
        "outputId": "51411b8f-2bce-4ade-850c-1f454011dadc"
      },
      "execution_count": null,
      "outputs": [
        {
          "output_type": "execute_result",
          "data": {
            "text/plain": [
              "        id                                       comment_text  total_length  \\\n",
              "0  7097320  [ Integrity means that you pay your debts.]\\n\\...            84   \n",
              "1  7097321  This is malfeasance by the Administrator and t...            84   \n",
              "2  7097322  @Rmiller101 - Spoken like a true elitist. But ...           198   \n",
              "3  7097323  Paul: Thank you for your kind words.  I do, in...           993   \n",
              "4  7097324  Sorry you missed high school. Eisenhower sent ...           345   \n",
              "\n",
              "   capitals  caps_vs_length  num_exclamation_marks  num_question_marks  \\\n",
              "0         4        0.047619                      0                   1   \n",
              "1         4        0.047619                      1                   0   \n",
              "2         8        0.040404                      0                   0   \n",
              "3        31        0.031219                      0                   0   \n",
              "4        18        0.052174                      0                   0   \n",
              "\n",
              "   num_punctuation  num_symbols  num_words  num_unique_words  words_vs_unique  \\\n",
              "0                1            0         15                15         1.000000   \n",
              "1                1            0         14                13         0.928571   \n",
              "2                5            1         35                31         0.885714   \n",
              "3               37            0        162               114         0.703704   \n",
              "4                3            2         65                51         0.784615   \n",
              "\n",
              "   num_smilies  word_density  num_stopWords  num_nonStopWords  \\\n",
              "0            0      0.066667             36                48   \n",
              "1            0      0.076923             36                48   \n",
              "2            0      0.032258             59               139   \n",
              "3            0      0.009804            358               635   \n",
              "4            0      0.020000            122               223   \n",
              "\n",
              "   num_nonStopWords_density  num_stopWords_density  \n",
              "0                  0.571429               0.428571  \n",
              "1                  0.571429               0.428571  \n",
              "2                  0.702020               0.297980  \n",
              "3                  0.639476               0.360524  \n",
              "4                  0.646377               0.353623  "
            ],
            "text/html": [
              "\n",
              "  <div id=\"df-33911b36-dbcd-4864-ac27-3bd76d9041cc\">\n",
              "    <div class=\"colab-df-container\">\n",
              "      <div>\n",
              "<style scoped>\n",
              "    .dataframe tbody tr th:only-of-type {\n",
              "        vertical-align: middle;\n",
              "    }\n",
              "\n",
              "    .dataframe tbody tr th {\n",
              "        vertical-align: top;\n",
              "    }\n",
              "\n",
              "    .dataframe thead th {\n",
              "        text-align: right;\n",
              "    }\n",
              "</style>\n",
              "<table border=\"1\" class=\"dataframe\">\n",
              "  <thead>\n",
              "    <tr style=\"text-align: right;\">\n",
              "      <th></th>\n",
              "      <th>id</th>\n",
              "      <th>comment_text</th>\n",
              "      <th>total_length</th>\n",
              "      <th>capitals</th>\n",
              "      <th>caps_vs_length</th>\n",
              "      <th>num_exclamation_marks</th>\n",
              "      <th>num_question_marks</th>\n",
              "      <th>num_punctuation</th>\n",
              "      <th>num_symbols</th>\n",
              "      <th>num_words</th>\n",
              "      <th>num_unique_words</th>\n",
              "      <th>words_vs_unique</th>\n",
              "      <th>num_smilies</th>\n",
              "      <th>word_density</th>\n",
              "      <th>num_stopWords</th>\n",
              "      <th>num_nonStopWords</th>\n",
              "      <th>num_nonStopWords_density</th>\n",
              "      <th>num_stopWords_density</th>\n",
              "    </tr>\n",
              "  </thead>\n",
              "  <tbody>\n",
              "    <tr>\n",
              "      <th>0</th>\n",
              "      <td>7097320</td>\n",
              "      <td>[ Integrity means that you pay your debts.]\\n\\...</td>\n",
              "      <td>84</td>\n",
              "      <td>4</td>\n",
              "      <td>0.047619</td>\n",
              "      <td>0</td>\n",
              "      <td>1</td>\n",
              "      <td>1</td>\n",
              "      <td>0</td>\n",
              "      <td>15</td>\n",
              "      <td>15</td>\n",
              "      <td>1.000000</td>\n",
              "      <td>0</td>\n",
              "      <td>0.066667</td>\n",
              "      <td>36</td>\n",
              "      <td>48</td>\n",
              "      <td>0.571429</td>\n",
              "      <td>0.428571</td>\n",
              "    </tr>\n",
              "    <tr>\n",
              "      <th>1</th>\n",
              "      <td>7097321</td>\n",
              "      <td>This is malfeasance by the Administrator and t...</td>\n",
              "      <td>84</td>\n",
              "      <td>4</td>\n",
              "      <td>0.047619</td>\n",
              "      <td>1</td>\n",
              "      <td>0</td>\n",
              "      <td>1</td>\n",
              "      <td>0</td>\n",
              "      <td>14</td>\n",
              "      <td>13</td>\n",
              "      <td>0.928571</td>\n",
              "      <td>0</td>\n",
              "      <td>0.076923</td>\n",
              "      <td>36</td>\n",
              "      <td>48</td>\n",
              "      <td>0.571429</td>\n",
              "      <td>0.428571</td>\n",
              "    </tr>\n",
              "    <tr>\n",
              "      <th>2</th>\n",
              "      <td>7097322</td>\n",
              "      <td>@Rmiller101 - Spoken like a true elitist. But ...</td>\n",
              "      <td>198</td>\n",
              "      <td>8</td>\n",
              "      <td>0.040404</td>\n",
              "      <td>0</td>\n",
              "      <td>0</td>\n",
              "      <td>5</td>\n",
              "      <td>1</td>\n",
              "      <td>35</td>\n",
              "      <td>31</td>\n",
              "      <td>0.885714</td>\n",
              "      <td>0</td>\n",
              "      <td>0.032258</td>\n",
              "      <td>59</td>\n",
              "      <td>139</td>\n",
              "      <td>0.702020</td>\n",
              "      <td>0.297980</td>\n",
              "    </tr>\n",
              "    <tr>\n",
              "      <th>3</th>\n",
              "      <td>7097323</td>\n",
              "      <td>Paul: Thank you for your kind words.  I do, in...</td>\n",
              "      <td>993</td>\n",
              "      <td>31</td>\n",
              "      <td>0.031219</td>\n",
              "      <td>0</td>\n",
              "      <td>0</td>\n",
              "      <td>37</td>\n",
              "      <td>0</td>\n",
              "      <td>162</td>\n",
              "      <td>114</td>\n",
              "      <td>0.703704</td>\n",
              "      <td>0</td>\n",
              "      <td>0.009804</td>\n",
              "      <td>358</td>\n",
              "      <td>635</td>\n",
              "      <td>0.639476</td>\n",
              "      <td>0.360524</td>\n",
              "    </tr>\n",
              "    <tr>\n",
              "      <th>4</th>\n",
              "      <td>7097324</td>\n",
              "      <td>Sorry you missed high school. Eisenhower sent ...</td>\n",
              "      <td>345</td>\n",
              "      <td>18</td>\n",
              "      <td>0.052174</td>\n",
              "      <td>0</td>\n",
              "      <td>0</td>\n",
              "      <td>3</td>\n",
              "      <td>2</td>\n",
              "      <td>65</td>\n",
              "      <td>51</td>\n",
              "      <td>0.784615</td>\n",
              "      <td>0</td>\n",
              "      <td>0.020000</td>\n",
              "      <td>122</td>\n",
              "      <td>223</td>\n",
              "      <td>0.646377</td>\n",
              "      <td>0.353623</td>\n",
              "    </tr>\n",
              "  </tbody>\n",
              "</table>\n",
              "</div>\n",
              "      <button class=\"colab-df-convert\" onclick=\"convertToInteractive('df-33911b36-dbcd-4864-ac27-3bd76d9041cc')\"\n",
              "              title=\"Convert this dataframe to an interactive table.\"\n",
              "              style=\"display:none;\">\n",
              "        \n",
              "  <svg xmlns=\"http://www.w3.org/2000/svg\" height=\"24px\"viewBox=\"0 0 24 24\"\n",
              "       width=\"24px\">\n",
              "    <path d=\"M0 0h24v24H0V0z\" fill=\"none\"/>\n",
              "    <path d=\"M18.56 5.44l.94 2.06.94-2.06 2.06-.94-2.06-.94-.94-2.06-.94 2.06-2.06.94zm-11 1L8.5 8.5l.94-2.06 2.06-.94-2.06-.94L8.5 2.5l-.94 2.06-2.06.94zm10 10l.94 2.06.94-2.06 2.06-.94-2.06-.94-.94-2.06-.94 2.06-2.06.94z\"/><path d=\"M17.41 7.96l-1.37-1.37c-.4-.4-.92-.59-1.43-.59-.52 0-1.04.2-1.43.59L10.3 9.45l-7.72 7.72c-.78.78-.78 2.05 0 2.83L4 21.41c.39.39.9.59 1.41.59.51 0 1.02-.2 1.41-.59l7.78-7.78 2.81-2.81c.8-.78.8-2.07 0-2.86zM5.41 20L4 18.59l7.72-7.72 1.47 1.35L5.41 20z\"/>\n",
              "  </svg>\n",
              "      </button>\n",
              "      \n",
              "  <style>\n",
              "    .colab-df-container {\n",
              "      display:flex;\n",
              "      flex-wrap:wrap;\n",
              "      gap: 12px;\n",
              "    }\n",
              "\n",
              "    .colab-df-convert {\n",
              "      background-color: #E8F0FE;\n",
              "      border: none;\n",
              "      border-radius: 50%;\n",
              "      cursor: pointer;\n",
              "      display: none;\n",
              "      fill: #1967D2;\n",
              "      height: 32px;\n",
              "      padding: 0 0 0 0;\n",
              "      width: 32px;\n",
              "    }\n",
              "\n",
              "    .colab-df-convert:hover {\n",
              "      background-color: #E2EBFA;\n",
              "      box-shadow: 0px 1px 2px rgba(60, 64, 67, 0.3), 0px 1px 3px 1px rgba(60, 64, 67, 0.15);\n",
              "      fill: #174EA6;\n",
              "    }\n",
              "\n",
              "    [theme=dark] .colab-df-convert {\n",
              "      background-color: #3B4455;\n",
              "      fill: #D2E3FC;\n",
              "    }\n",
              "\n",
              "    [theme=dark] .colab-df-convert:hover {\n",
              "      background-color: #434B5C;\n",
              "      box-shadow: 0px 1px 3px 1px rgba(0, 0, 0, 0.15);\n",
              "      filter: drop-shadow(0px 1px 2px rgba(0, 0, 0, 0.3));\n",
              "      fill: #FFFFFF;\n",
              "    }\n",
              "  </style>\n",
              "\n",
              "      <script>\n",
              "        const buttonEl =\n",
              "          document.querySelector('#df-33911b36-dbcd-4864-ac27-3bd76d9041cc button.colab-df-convert');\n",
              "        buttonEl.style.display =\n",
              "          google.colab.kernel.accessAllowed ? 'block' : 'none';\n",
              "\n",
              "        async function convertToInteractive(key) {\n",
              "          const element = document.querySelector('#df-33911b36-dbcd-4864-ac27-3bd76d9041cc');\n",
              "          const dataTable =\n",
              "            await google.colab.kernel.invokeFunction('convertToInteractive',\n",
              "                                                     [key], {});\n",
              "          if (!dataTable) return;\n",
              "\n",
              "          const docLinkHtml = 'Like what you see? Visit the ' +\n",
              "            '<a target=\"_blank\" href=https://colab.research.google.com/notebooks/data_table.ipynb>data table notebook</a>'\n",
              "            + ' to learn more about interactive tables.';\n",
              "          element.innerHTML = '';\n",
              "          dataTable['output_type'] = 'display_data';\n",
              "          await google.colab.output.renderOutput(dataTable, element);\n",
              "          const docLink = document.createElement('div');\n",
              "          docLink.innerHTML = docLinkHtml;\n",
              "          element.appendChild(docLink);\n",
              "        }\n",
              "      </script>\n",
              "    </div>\n",
              "  </div>\n",
              "  "
            ]
          },
          "metadata": {},
          "execution_count": 36
        }
      ]
    },
    {
      "cell_type": "code",
      "source": [
        "train_TFIDF['comment_text'] = train_TFIDF['comment_text'].astype(str) \n",
        "submission_TFIDF['comment_text'] = submission_TFIDF['comment_text'].astype(str) \n",
        "# List all identities\n",
        "identity_columns = [\n",
        "    'male', 'female', 'homosexual_gay_or_lesbian', 'christian', 'jewish',\n",
        "    'muslim', 'black', 'white', 'psychiatric_or_mental_illness']\n",
        "\n",
        "TOXICITY_COLUMN = 'target' \n",
        "\n",
        "# Convert taget and identity columns to booleans\n",
        "def convert_to_bool(df, col_name):\n",
        "    df[col_name] = np.where(df[col_name] >= 0.5, True, False)\n",
        "    \n",
        "def convert_dataframe_to_bool(df):\n",
        "    bool_df = df.copy()\n",
        "    for col in ['target'] + identity_columns:\n",
        "        convert_to_bool(bool_df, col)\n",
        "    return bool_df\n",
        "\n",
        "train_TFIDF = convert_dataframe_to_bool(train_TFIDF) "
      ],
      "metadata": {
        "id": "6lKILcaSfOrm"
      },
      "execution_count": null,
      "outputs": []
    },
    {
      "cell_type": "code",
      "source": [
        "train_TFIDF.head()"
      ],
      "metadata": {
        "colab": {
          "base_uri": "https://localhost:8080/",
          "height": 594
        },
        "id": "QT3q986QfRlv",
        "outputId": "65c741f9-63a2-4b6b-d14d-8f1cba70866c"
      },
      "execution_count": null,
      "outputs": [
        {
          "output_type": "execute_result",
          "data": {
            "text/plain": [
              "      id  target                                       comment_text  \\\n",
              "0  59848   False  This is so cool. It's like, 'would you want yo...   \n",
              "1  59849   False  Thank you!! This would make my life a lot less...   \n",
              "2  59852   False  This is such an urgent design problem; kudos t...   \n",
              "3  59855   False  Is this something I'll be able to install on m...   \n",
              "4  59856    True               haha you guys are a bunch of losers.   \n",
              "\n",
              "   severe_toxicity  obscene  identity_attack   insult  threat  asian  atheist  \\\n",
              "0         0.000000      0.0         0.000000  0.00000     0.0    NaN      NaN   \n",
              "1         0.000000      0.0         0.000000  0.00000     0.0    NaN      NaN   \n",
              "2         0.000000      0.0         0.000000  0.00000     0.0    NaN      NaN   \n",
              "3         0.000000      0.0         0.000000  0.00000     0.0    NaN      NaN   \n",
              "4         0.021277      0.0         0.021277  0.87234     0.0    0.0      0.0   \n",
              "\n",
              "   ...  num_symbols  num_words  num_unique_words  words_vs_unique  \\\n",
              "0  ...            0         19                19         1.000000   \n",
              "1  ...            0         22                22         1.000000   \n",
              "2  ...            0         16                16         1.000000   \n",
              "3  ...            0         17                16         0.941176   \n",
              "4  ...            0          8                 8         1.000000   \n",
              "\n",
              "   num_smilies  word_density  num_stopWords  num_nonStopWords  \\\n",
              "0            0      0.052632             38                63   \n",
              "1            0      0.045455             41                73   \n",
              "2            0      0.062500             32                54   \n",
              "3            0      0.062500             30                54   \n",
              "4            0      0.125000             12                24   \n",
              "\n",
              "   num_nonStopWords_density  num_stopWords_density  \n",
              "0                  0.623762               0.376238  \n",
              "1                  0.640351               0.359649  \n",
              "2                  0.627907               0.372093  \n",
              "3                  0.642857               0.357143  \n",
              "4                  0.666667               0.333333  \n",
              "\n",
              "[5 rows x 62 columns]"
            ],
            "text/html": [
              "\n",
              "  <div id=\"df-0d7db441-0066-4259-b4ae-d20aefdb138e\">\n",
              "    <div class=\"colab-df-container\">\n",
              "      <div>\n",
              "<style scoped>\n",
              "    .dataframe tbody tr th:only-of-type {\n",
              "        vertical-align: middle;\n",
              "    }\n",
              "\n",
              "    .dataframe tbody tr th {\n",
              "        vertical-align: top;\n",
              "    }\n",
              "\n",
              "    .dataframe thead th {\n",
              "        text-align: right;\n",
              "    }\n",
              "</style>\n",
              "<table border=\"1\" class=\"dataframe\">\n",
              "  <thead>\n",
              "    <tr style=\"text-align: right;\">\n",
              "      <th></th>\n",
              "      <th>id</th>\n",
              "      <th>target</th>\n",
              "      <th>comment_text</th>\n",
              "      <th>severe_toxicity</th>\n",
              "      <th>obscene</th>\n",
              "      <th>identity_attack</th>\n",
              "      <th>insult</th>\n",
              "      <th>threat</th>\n",
              "      <th>asian</th>\n",
              "      <th>atheist</th>\n",
              "      <th>...</th>\n",
              "      <th>num_symbols</th>\n",
              "      <th>num_words</th>\n",
              "      <th>num_unique_words</th>\n",
              "      <th>words_vs_unique</th>\n",
              "      <th>num_smilies</th>\n",
              "      <th>word_density</th>\n",
              "      <th>num_stopWords</th>\n",
              "      <th>num_nonStopWords</th>\n",
              "      <th>num_nonStopWords_density</th>\n",
              "      <th>num_stopWords_density</th>\n",
              "    </tr>\n",
              "  </thead>\n",
              "  <tbody>\n",
              "    <tr>\n",
              "      <th>0</th>\n",
              "      <td>59848</td>\n",
              "      <td>False</td>\n",
              "      <td>This is so cool. It's like, 'would you want yo...</td>\n",
              "      <td>0.000000</td>\n",
              "      <td>0.0</td>\n",
              "      <td>0.000000</td>\n",
              "      <td>0.00000</td>\n",
              "      <td>0.0</td>\n",
              "      <td>NaN</td>\n",
              "      <td>NaN</td>\n",
              "      <td>...</td>\n",
              "      <td>0</td>\n",
              "      <td>19</td>\n",
              "      <td>19</td>\n",
              "      <td>1.000000</td>\n",
              "      <td>0</td>\n",
              "      <td>0.052632</td>\n",
              "      <td>38</td>\n",
              "      <td>63</td>\n",
              "      <td>0.623762</td>\n",
              "      <td>0.376238</td>\n",
              "    </tr>\n",
              "    <tr>\n",
              "      <th>1</th>\n",
              "      <td>59849</td>\n",
              "      <td>False</td>\n",
              "      <td>Thank you!! This would make my life a lot less...</td>\n",
              "      <td>0.000000</td>\n",
              "      <td>0.0</td>\n",
              "      <td>0.000000</td>\n",
              "      <td>0.00000</td>\n",
              "      <td>0.0</td>\n",
              "      <td>NaN</td>\n",
              "      <td>NaN</td>\n",
              "      <td>...</td>\n",
              "      <td>0</td>\n",
              "      <td>22</td>\n",
              "      <td>22</td>\n",
              "      <td>1.000000</td>\n",
              "      <td>0</td>\n",
              "      <td>0.045455</td>\n",
              "      <td>41</td>\n",
              "      <td>73</td>\n",
              "      <td>0.640351</td>\n",
              "      <td>0.359649</td>\n",
              "    </tr>\n",
              "    <tr>\n",
              "      <th>2</th>\n",
              "      <td>59852</td>\n",
              "      <td>False</td>\n",
              "      <td>This is such an urgent design problem; kudos t...</td>\n",
              "      <td>0.000000</td>\n",
              "      <td>0.0</td>\n",
              "      <td>0.000000</td>\n",
              "      <td>0.00000</td>\n",
              "      <td>0.0</td>\n",
              "      <td>NaN</td>\n",
              "      <td>NaN</td>\n",
              "      <td>...</td>\n",
              "      <td>0</td>\n",
              "      <td>16</td>\n",
              "      <td>16</td>\n",
              "      <td>1.000000</td>\n",
              "      <td>0</td>\n",
              "      <td>0.062500</td>\n",
              "      <td>32</td>\n",
              "      <td>54</td>\n",
              "      <td>0.627907</td>\n",
              "      <td>0.372093</td>\n",
              "    </tr>\n",
              "    <tr>\n",
              "      <th>3</th>\n",
              "      <td>59855</td>\n",
              "      <td>False</td>\n",
              "      <td>Is this something I'll be able to install on m...</td>\n",
              "      <td>0.000000</td>\n",
              "      <td>0.0</td>\n",
              "      <td>0.000000</td>\n",
              "      <td>0.00000</td>\n",
              "      <td>0.0</td>\n",
              "      <td>NaN</td>\n",
              "      <td>NaN</td>\n",
              "      <td>...</td>\n",
              "      <td>0</td>\n",
              "      <td>17</td>\n",
              "      <td>16</td>\n",
              "      <td>0.941176</td>\n",
              "      <td>0</td>\n",
              "      <td>0.062500</td>\n",
              "      <td>30</td>\n",
              "      <td>54</td>\n",
              "      <td>0.642857</td>\n",
              "      <td>0.357143</td>\n",
              "    </tr>\n",
              "    <tr>\n",
              "      <th>4</th>\n",
              "      <td>59856</td>\n",
              "      <td>True</td>\n",
              "      <td>haha you guys are a bunch of losers.</td>\n",
              "      <td>0.021277</td>\n",
              "      <td>0.0</td>\n",
              "      <td>0.021277</td>\n",
              "      <td>0.87234</td>\n",
              "      <td>0.0</td>\n",
              "      <td>0.0</td>\n",
              "      <td>0.0</td>\n",
              "      <td>...</td>\n",
              "      <td>0</td>\n",
              "      <td>8</td>\n",
              "      <td>8</td>\n",
              "      <td>1.000000</td>\n",
              "      <td>0</td>\n",
              "      <td>0.125000</td>\n",
              "      <td>12</td>\n",
              "      <td>24</td>\n",
              "      <td>0.666667</td>\n",
              "      <td>0.333333</td>\n",
              "    </tr>\n",
              "  </tbody>\n",
              "</table>\n",
              "<p>5 rows × 62 columns</p>\n",
              "</div>\n",
              "      <button class=\"colab-df-convert\" onclick=\"convertToInteractive('df-0d7db441-0066-4259-b4ae-d20aefdb138e')\"\n",
              "              title=\"Convert this dataframe to an interactive table.\"\n",
              "              style=\"display:none;\">\n",
              "        \n",
              "  <svg xmlns=\"http://www.w3.org/2000/svg\" height=\"24px\"viewBox=\"0 0 24 24\"\n",
              "       width=\"24px\">\n",
              "    <path d=\"M0 0h24v24H0V0z\" fill=\"none\"/>\n",
              "    <path d=\"M18.56 5.44l.94 2.06.94-2.06 2.06-.94-2.06-.94-.94-2.06-.94 2.06-2.06.94zm-11 1L8.5 8.5l.94-2.06 2.06-.94-2.06-.94L8.5 2.5l-.94 2.06-2.06.94zm10 10l.94 2.06.94-2.06 2.06-.94-2.06-.94-.94-2.06-.94 2.06-2.06.94z\"/><path d=\"M17.41 7.96l-1.37-1.37c-.4-.4-.92-.59-1.43-.59-.52 0-1.04.2-1.43.59L10.3 9.45l-7.72 7.72c-.78.78-.78 2.05 0 2.83L4 21.41c.39.39.9.59 1.41.59.51 0 1.02-.2 1.41-.59l7.78-7.78 2.81-2.81c.8-.78.8-2.07 0-2.86zM5.41 20L4 18.59l7.72-7.72 1.47 1.35L5.41 20z\"/>\n",
              "  </svg>\n",
              "      </button>\n",
              "      \n",
              "  <style>\n",
              "    .colab-df-container {\n",
              "      display:flex;\n",
              "      flex-wrap:wrap;\n",
              "      gap: 12px;\n",
              "    }\n",
              "\n",
              "    .colab-df-convert {\n",
              "      background-color: #E8F0FE;\n",
              "      border: none;\n",
              "      border-radius: 50%;\n",
              "      cursor: pointer;\n",
              "      display: none;\n",
              "      fill: #1967D2;\n",
              "      height: 32px;\n",
              "      padding: 0 0 0 0;\n",
              "      width: 32px;\n",
              "    }\n",
              "\n",
              "    .colab-df-convert:hover {\n",
              "      background-color: #E2EBFA;\n",
              "      box-shadow: 0px 1px 2px rgba(60, 64, 67, 0.3), 0px 1px 3px 1px rgba(60, 64, 67, 0.15);\n",
              "      fill: #174EA6;\n",
              "    }\n",
              "\n",
              "    [theme=dark] .colab-df-convert {\n",
              "      background-color: #3B4455;\n",
              "      fill: #D2E3FC;\n",
              "    }\n",
              "\n",
              "    [theme=dark] .colab-df-convert:hover {\n",
              "      background-color: #434B5C;\n",
              "      box-shadow: 0px 1px 3px 1px rgba(0, 0, 0, 0.15);\n",
              "      filter: drop-shadow(0px 1px 2px rgba(0, 0, 0, 0.3));\n",
              "      fill: #FFFFFF;\n",
              "    }\n",
              "  </style>\n",
              "\n",
              "      <script>\n",
              "        const buttonEl =\n",
              "          document.querySelector('#df-0d7db441-0066-4259-b4ae-d20aefdb138e button.colab-df-convert');\n",
              "        buttonEl.style.display =\n",
              "          google.colab.kernel.accessAllowed ? 'block' : 'none';\n",
              "\n",
              "        async function convertToInteractive(key) {\n",
              "          const element = document.querySelector('#df-0d7db441-0066-4259-b4ae-d20aefdb138e');\n",
              "          const dataTable =\n",
              "            await google.colab.kernel.invokeFunction('convertToInteractive',\n",
              "                                                     [key], {});\n",
              "          if (!dataTable) return;\n",
              "\n",
              "          const docLinkHtml = 'Like what you see? Visit the ' +\n",
              "            '<a target=\"_blank\" href=https://colab.research.google.com/notebooks/data_table.ipynb>data table notebook</a>'\n",
              "            + ' to learn more about interactive tables.';\n",
              "          element.innerHTML = '';\n",
              "          dataTable['output_type'] = 'display_data';\n",
              "          await google.colab.output.renderOutput(dataTable, element);\n",
              "          const docLink = document.createElement('div');\n",
              "          docLink.innerHTML = docLinkHtml;\n",
              "          element.appendChild(docLink);\n",
              "        }\n",
              "      </script>\n",
              "    </div>\n",
              "  </div>\n",
              "  "
            ]
          },
          "metadata": {},
          "execution_count": 38
        }
      ]
    },
    {
      "cell_type": "code",
      "source": [
        "train_TFIDF_label=train_TFIDF[\"target\"].copy()"
      ],
      "metadata": {
        "id": "3j3kEjN3fUWc"
      },
      "execution_count": null,
      "outputs": []
    },
    {
      "cell_type": "code",
      "source": [
        "train_TFIDF.drop(columns=\"target\",inplace=True)"
      ],
      "metadata": {
        "id": "Ls76jWlffWxl"
      },
      "execution_count": null,
      "outputs": []
    },
    {
      "cell_type": "code",
      "source": [
        "#train_TFIDF = pd.read_csv('./input/train.csv')\n",
        "\n",
        "X_train_cv_TFIDF, X_test_TFIDF, y_train_cv_TFIDF, y_test_TFIDF = train_test_split(train_TFIDF,train_TFIDF_label, test_size = 0.2, random_state = 0)\n",
        "#X_train_TFIDF, X_test_TFIDF, y_cv_TFIDF, y_cv_TFIDF = train_test_split(X_train_cv_TFIDF,y_train_cv_TFIDF, test_size = 0.2, random_state = 0)\n",
        "X_train_cv_TFIDF.reset_index(inplace=True)\n",
        "X_test_TFIDF.reset_index(inplace=True)"
      ],
      "metadata": {
        "id": "6STU1BE4fZcN"
      },
      "execution_count": null,
      "outputs": []
    },
    {
      "cell_type": "code",
      "source": [
        "numerical_cols=['total_length', 'capitals', 'num_exclamation_marks','num_question_marks', 'num_punctuation', 'num_words', 'num_unique_words',\\\n",
        "         'num_symbols','word_density','num_stopWords','num_nonStopWords']"
      ],
      "metadata": {
        "id": "fJ3rHeuyfc49"
      },
      "execution_count": null,
      "outputs": []
    },
    {
      "cell_type": "code",
      "source": [
        "from sklearn.preprocessing import StandardScaler\n",
        "\n",
        "X= X_train_cv_TFIDF[numerical_cols]\n",
        "sc=StandardScaler()\n",
        "sc.fit_transform(X)\n",
        "numerical_feature_train= sc.transform(X)\n",
        "\n",
        "Y = X_test_TFIDF[numerical_cols]\n",
        "sc=StandardScaler()\n",
        "sc.fit_transform(Y)\n",
        "numerical_feature_test = sc.transform(Y)\n",
        "\n"
      ],
      "metadata": {
        "id": "yFhuC0sfffJV"
      },
      "execution_count": null,
      "outputs": []
    },
    {
      "cell_type": "code",
      "source": [
        "Z=submission_TFIDF[numerical_cols]\n",
        "sc=StandardScaler()\n",
        "sc.fit_transform(Z)\n",
        "numerical_submission_TFIDF = sc.transform(Z)"
      ],
      "metadata": {
        "id": "ypHPHTTyjnFH"
      },
      "execution_count": null,
      "outputs": []
    },
    {
      "cell_type": "code",
      "source": [
        "numerical_feature_train.shape"
      ],
      "metadata": {
        "colab": {
          "base_uri": "https://localhost:8080/"
        },
        "id": "vwTiUdR1jYx2",
        "outputId": "8f1dca5e-991e-42af-a9de-61fb89504b08"
      },
      "execution_count": null,
      "outputs": [
        {
          "output_type": "execute_result",
          "data": {
            "text/plain": [
              "(1443899, 11)"
            ]
          },
          "metadata": {},
          "execution_count": 45
        }
      ]
    },
    {
      "cell_type": "code",
      "source": [
        "numerical_feature_test.shape"
      ],
      "metadata": {
        "colab": {
          "base_uri": "https://localhost:8080/"
        },
        "id": "BNIhae77jhHu",
        "outputId": "ead8ca2f-8caf-4984-cde5-1716b607f4a8"
      },
      "execution_count": null,
      "outputs": [
        {
          "output_type": "execute_result",
          "data": {
            "text/plain": [
              "(360975, 11)"
            ]
          },
          "metadata": {},
          "execution_count": 46
        }
      ]
    },
    {
      "cell_type": "code",
      "source": [
        "numerical_submission_TFIDF.shape"
      ],
      "metadata": {
        "colab": {
          "base_uri": "https://localhost:8080/"
        },
        "id": "k4G1-JyZjjiW",
        "outputId": "13cdcfc2-7b42-48eb-bf3e-2d040357fa8d"
      },
      "execution_count": null,
      "outputs": [
        {
          "output_type": "execute_result",
          "data": {
            "text/plain": [
              "(97320, 11)"
            ]
          },
          "metadata": {},
          "execution_count": 47
        }
      ]
    },
    {
      "cell_type": "code",
      "source": [
        "from nltk.corpus import stopwords \n",
        "from nltk.tokenize import word_tokenize \n",
        "from nltk.stem import WordNetLemmatizer\n",
        "import nltk\n",
        "import re \n",
        "\n",
        "nltk.download('wordnet')\n",
        "stop_words = set(stopwords.words('english')) \n",
        "lemmatizer = WordNetLemmatizer()"
      ],
      "metadata": {
        "colab": {
          "base_uri": "https://localhost:8080/"
        },
        "id": "XHPFO8B7pSXH",
        "outputId": "18c34cb7-6e55-4252-e0f5-9b9597b1cee5"
      },
      "execution_count": null,
      "outputs": [
        {
          "output_type": "stream",
          "name": "stderr",
          "text": [
            "[nltk_data] Downloading package wordnet to /root/nltk_data...\n",
            "[nltk_data]   Package wordnet is already up-to-date!\n"
          ]
        }
      ]
    },
    {
      "cell_type": "code",
      "source": [
        "def preprocessingText(text):\n",
        "    \n",
        "    words=word_tokenize(text)\n",
        "    \n",
        "    wordsWihoutStopwords=[lemmatizer.lemmatize(word.lower()) for word in words if word.lower() not in stop_words]\n",
        "    \n",
        "    text=\" \".join(wordsWihoutStopwords)\n",
        "    \n",
        "    text=re.sub(r\"[^A-Za-z\\?\\@\\^\\$\\%\\`\\'\\#\\:\\-\\)\\(\\)\\;\\.\\,\\&\\!]\",\" \",text)\n",
        "    text=re.sub(r\"\\s+\",\" \",text)\n",
        "    \n",
        "    return text"
      ],
      "metadata": {
        "id": "M-rUOhmkpWZQ"
      },
      "execution_count": null,
      "outputs": []
    },
    {
      "cell_type": "code",
      "source": [
        "import nltk\n",
        "nltk.download('omw-1.4')"
      ],
      "metadata": {
        "colab": {
          "base_uri": "https://localhost:8080/"
        },
        "id": "ykmOR164pcZA",
        "outputId": "eed37f89-27f9-4628-dd20-203f20216ecf"
      },
      "execution_count": null,
      "outputs": [
        {
          "output_type": "stream",
          "name": "stderr",
          "text": [
            "[nltk_data] Downloading package omw-1.4 to /root/nltk_data...\n",
            "[nltk_data]   Package omw-1.4 is already up-to-date!\n"
          ]
        },
        {
          "output_type": "execute_result",
          "data": {
            "text/plain": [
              "True"
            ]
          },
          "metadata": {},
          "execution_count": 50
        }
      ]
    },
    {
      "cell_type": "code",
      "source": [
        " import nltk\n",
        "nltk.download('punkt')\n",
        "\n",
        "X_train_cv_TFIDF[\"comment_text\"]=X_train_cv_TFIDF[\"comment_text\"].apply(preprocessingText)\n",
        "X_test_TFIDF[\"comment_text\"]=X_test_TFIDF[\"comment_text\"].apply(preprocessingText)\n",
        "submission_TFIDF[\"comment_text\"]=submission_TFIDF[\"comment_text\"].apply(preprocessingText)"
      ],
      "metadata": {
        "colab": {
          "base_uri": "https://localhost:8080/"
        },
        "id": "oCTlBSuzpXY_",
        "outputId": "febf106f-91c9-4557-b2f0-55c5d3344374"
      },
      "execution_count": null,
      "outputs": [
        {
          "output_type": "stream",
          "name": "stderr",
          "text": [
            "[nltk_data] Downloading package punkt to /root/nltk_data...\n",
            "[nltk_data]   Package punkt is already up-to-date!\n"
          ]
        }
      ]
    },
    {
      "cell_type": "code",
      "source": [
        "X_train_cv_TFIDF[\"comment_text\"][0]"
      ],
      "metadata": {
        "colab": {
          "base_uri": "https://localhost:8080/",
          "height": 53
        },
        "id": "wqEOlcDr2qP-",
        "outputId": "d79c536d-7bda-4f6d-ed52-b2ea7166a2e9"
      },
      "execution_count": null,
      "outputs": [
        {
          "output_type": "execute_result",
          "data": {
            "text/plain": [
              "\" bad season make forget national championship game appearance , conference championship , double digit win season row ? agree new staff even better , n't mean previous one sucked , ca n't still appreciate helped .\""
            ],
            "application/vnd.google.colaboratory.intrinsic+json": {
              "type": "string"
            }
          },
          "metadata": {},
          "execution_count": 52
        }
      ]
    },
    {
      "cell_type": "code",
      "source": [
        "preprocessingText(X_train_cv_TFIDF[\"comment_text\"][0])"
      ],
      "metadata": {
        "colab": {
          "base_uri": "https://localhost:8080/",
          "height": 53
        },
        "id": "ONJFruiN2vYf",
        "outputId": "6cce793f-5c34-49cb-fd23-6e014c38571f"
      },
      "execution_count": null,
      "outputs": [
        {
          "output_type": "execute_result",
          "data": {
            "text/plain": [
              "\"bad season make forget national championship game appearance , conference championship , double digit win season row ? agree new staff even better , n't mean previous one sucked , ca n't still appreciate helped .\""
            ],
            "application/vnd.google.colaboratory.intrinsic+json": {
              "type": "string"
            }
          },
          "metadata": {},
          "execution_count": 53
        }
      ]
    },
    {
      "cell_type": "code",
      "source": [
        "from sklearn.feature_extraction.text import TfidfVectorizer\n",
        "\n",
        "vectorizer = TfidfVectorizer(max_features=10000,ngram_range=(1,2))\n",
        "X_tfidf_train = vectorizer.fit_transform(X_train_cv_TFIDF[\"comment_text\"])\n",
        "\n",
        "print(vectorizer.get_feature_names()[:25])"
      ],
      "metadata": {
        "colab": {
          "base_uri": "https://localhost:8080/"
        },
        "id": "TPcY0F1z2x_f",
        "outputId": "fe75d0a6-45a6-4ca5-b7e6-7d10a542d440"
      },
      "execution_count": null,
      "outputs": [
        {
          "output_type": "stream",
          "name": "stdout",
          "text": [
            "['aa', 'ab', 'abandon', 'abandoned', 'abc', 'abide', 'abiding', 'abiding citizen', 'ability', 'able', 'able afford', 'able get', 'abolish', 'aboriginal', 'abortion', 'about', 'abraham', 'abroad', 'absence', 'absent', 'absolute', 'absolutely', 'absolutely correct', 'absolutely nothing', 'absolutely right']\n"
          ]
        },
        {
          "output_type": "stream",
          "name": "stderr",
          "text": [
            "/usr/local/lib/python3.8/dist-packages/sklearn/utils/deprecation.py:87: FutureWarning: Function get_feature_names is deprecated; get_feature_names is deprecated in 1.0 and will be removed in 1.2. Please use get_feature_names_out instead.\n",
            "  warnings.warn(msg, category=FutureWarning)\n"
          ]
        }
      ]
    },
    {
      "cell_type": "code",
      "source": [
        "scores = zip(vectorizer.get_feature_names(),\\\n",
        "                 np.asarray(X_tfidf_train.sum(axis=0)).ravel())\n",
        "    \n",
        "sorted_scores = sorted(scores, key=lambda x: x[1], reverse=True)\n"
      ],
      "metadata": {
        "id": "ouNBNzwd4PTY"
      },
      "execution_count": null,
      "outputs": []
    },
    {
      "cell_type": "code",
      "source": [
        "sorted_scores[-10:]"
      ],
      "metadata": {
        "colab": {
          "base_uri": "https://localhost:8080/"
        },
        "id": "FDGCc7UJ4TK4",
        "outputId": "df3edcf7-bac0-4d4d-ab45-a8a9eefd44d5"
      },
      "execution_count": null,
      "outputs": [
        {
          "output_type": "execute_result",
          "data": {
            "text/plain": [
              "[('statehood', 96.21647963187662),\n",
              " ('equitable', 95.60868361265437),\n",
              " ('carbon dioxide', 95.46106291119037),\n",
              " ('kwh', 92.87434517709082),\n",
              " ('let look', 92.43123402527998),\n",
              " ('lastly', 90.82041968639601),\n",
              " ('dnr', 88.9628151944426),\n",
              " ('ly', 86.29311242403318),\n",
              " ('massengill', 85.87999285635958),\n",
              " ('hugh massengill', 84.18465629665893)]"
            ]
          },
          "metadata": {},
          "execution_count": 56
        }
      ]
    },
    {
      "cell_type": "code",
      "source": [
        "lowTfidfWords=[]\n",
        "for key,value in dict(sorted_scores).items():\n",
        "    if value<=150:\n",
        "        lowTfidfWords.append(key)"
      ],
      "metadata": {
        "id": "e5jKEAKF4XEI"
      },
      "execution_count": null,
      "outputs": []
    },
    {
      "cell_type": "code",
      "source": [
        "len(set(lowTfidfWords))"
      ],
      "metadata": {
        "colab": {
          "base_uri": "https://localhost:8080/"
        },
        "id": "S-LkcvTV4ZYJ",
        "outputId": "6561b98a-56b2-461c-aabf-b67f8c2dba80"
      },
      "execution_count": null,
      "outputs": [
        {
          "output_type": "execute_result",
          "data": {
            "text/plain": [
              "2120"
            ]
          },
          "metadata": {},
          "execution_count": 58
        }
      ]
    },
    {
      "cell_type": "code",
      "source": [
        "def preProcessingBasedOnTfidfScore(text):\n",
        "    \n",
        "    words=word_tokenize(text)\n",
        "    \n",
        "    wordsWihoutStopwords=[word for word in words if word.lower() not in lowTfidfWords]\n",
        "    \n",
        "    text=\" \".join(wordsWihoutStopwords)\n",
        "   \n",
        "    return text"
      ],
      "metadata": {
        "id": "mhs00-pv4b94"
      },
      "execution_count": null,
      "outputs": []
    },
    {
      "cell_type": "code",
      "source": [
        "X_train_cv_TFIDF[\"comment_text\"]=X_train_cv_TFIDF[\"comment_text\"].apply(preProcessingBasedOnTfidfScore)"
      ],
      "metadata": {
        "id": "XHmmj3nZ4ek4"
      },
      "execution_count": null,
      "outputs": []
    },
    {
      "cell_type": "code",
      "source": [
        "from sklearn.feature_extraction.text import TfidfVectorizer\n",
        "\n",
        "vectorizer = TfidfVectorizer(max_features=10000,ngram_range=(1,2))\n",
        "X_tfidf_train = vectorizer.fit_transform(X_train_cv_TFIDF[\"comment_text\"])\n",
        "X_tfidf_test = vectorizer.transform(X_test_TFIDF[\"comment_text\"])\n",
        "submission_test_tfidf=vectorizer.transform(submission_TFIDF[\"comment_text\"])\n",
        "\n",
        "print(\"Shape of Train data: {}\".format(X_tfidf_train.shape))\n",
        "print(\"Shape of Test data: {}\".format(X_tfidf_test.shape))      \n",
        "print(\"Shape of Test data: {}\".format(submission_test_tfidf.shape))   "
      ],
      "metadata": {
        "colab": {
          "base_uri": "https://localhost:8080/"
        },
        "id": "_rBrT8O14pfw",
        "outputId": "d4977871-7f48-4f4d-dbb5-974530729e33"
      },
      "execution_count": null,
      "outputs": [
        {
          "output_type": "stream",
          "name": "stdout",
          "text": [
            "Shape of Train data: (1443899, 10000)\n",
            "Shape of Test data: (360975, 10000)\n",
            "Shape of Test data: (97320, 10000)\n"
          ]
        }
      ]
    },
    {
      "cell_type": "code",
      "source": [
        "from scipy.sparse import hstack\n",
        "\n",
        "X_train = hstack((X_tfidf_train,numerical_feature_train))\n",
        "X_test = hstack((X_tfidf_test,numerical_feature_test))\n",
        "X_submission = hstack((submission_test_tfidf,numerical_submission_TFIDF))"
      ],
      "metadata": {
        "id": "-MDHzj-jFNXg"
      },
      "execution_count": null,
      "outputs": []
    },
    {
      "cell_type": "code",
      "source": [
        "X_train.shape"
      ],
      "metadata": {
        "colab": {
          "base_uri": "https://localhost:8080/"
        },
        "id": "xDj7GWXhGhmg",
        "outputId": "190fd324-55f3-49bc-fecb-f02d37c499a0"
      },
      "execution_count": null,
      "outputs": [
        {
          "output_type": "execute_result",
          "data": {
            "text/plain": [
              "(1443899, 10011)"
            ]
          },
          "metadata": {},
          "execution_count": 63
        }
      ]
    },
    {
      "cell_type": "code",
      "source": [
        "X_test.shape"
      ],
      "metadata": {
        "colab": {
          "base_uri": "https://localhost:8080/"
        },
        "id": "ObTwygMgGkF5",
        "outputId": "16fa6585-f652-4ead-d7f7-a49deaf26a8f"
      },
      "execution_count": null,
      "outputs": [
        {
          "output_type": "execute_result",
          "data": {
            "text/plain": [
              "(360975, 10011)"
            ]
          },
          "metadata": {},
          "execution_count": 64
        }
      ]
    },
    {
      "cell_type": "code",
      "source": [
        "numerical_submission_TFIDF.shape"
      ],
      "metadata": {
        "colab": {
          "base_uri": "https://localhost:8080/"
        },
        "id": "wtnYzcsjGmVB",
        "outputId": "232f7b4b-0a69-4be1-ee47-badeba8a06b1"
      },
      "execution_count": null,
      "outputs": [
        {
          "output_type": "execute_result",
          "data": {
            "text/plain": [
              "(97320, 11)"
            ]
          },
          "metadata": {},
          "execution_count": 65
        }
      ]
    },
    {
      "cell_type": "code",
      "source": [
        "from sklearn.model_selection import RandomizedSearchCV, GridSearchCV\n",
        "from sklearn.linear_model import LogisticRegression\n",
        "from sklearn.ensemble import RandomForestClassifier\n",
        "from sklearn.tree import DecisionTreeClassifier\n",
        "from xgboost import XGBClassifier\n",
        "from sklearn.ensemble import RandomForestClassifier\n",
        "from sklearn.tree import DecisionTreeClassifier\n",
        "from sklearn.calibration import CalibratedClassifierCV\n",
        "from sklearn import linear_model"
      ],
      "metadata": {
        "id": "xrU-oH2DGpFx"
      },
      "execution_count": null,
      "outputs": []
    },
    {
      "cell_type": "code",
      "source": [
        "y_train_cv_TFIDF"
      ],
      "metadata": {
        "colab": {
          "base_uri": "https://localhost:8080/"
        },
        "id": "FrWmh4LeGreA",
        "outputId": "485ace46-e4d1-4de4-c752-e0420cf8de84"
      },
      "execution_count": null,
      "outputs": [
        {
          "output_type": "execute_result",
          "data": {
            "text/plain": [
              "1072905    False\n",
              "659482     False\n",
              "289250      True\n",
              "497151     False\n",
              "1757082    False\n",
              "           ...  \n",
              "152315     False\n",
              "963395     False\n",
              "117952     False\n",
              "1484405    False\n",
              "305711     False\n",
              "Name: target, Length: 1443899, dtype: bool"
            ]
          },
          "metadata": {},
          "execution_count": 67
        }
      ]
    },
    {
      "cell_type": "code",
      "source": [
        "X_train.shape"
      ],
      "metadata": {
        "colab": {
          "base_uri": "https://localhost:8080/"
        },
        "id": "f-jJkKBTGuFa",
        "outputId": "224b9f11-af8e-4016-ef3e-37417eb9f69b"
      },
      "execution_count": null,
      "outputs": [
        {
          "output_type": "execute_result",
          "data": {
            "text/plain": [
              "(1443899, 10011)"
            ]
          },
          "metadata": {},
          "execution_count": 68
        }
      ]
    },
    {
      "cell_type": "code",
      "source": [
        "#loggistic_regression\n",
        "parameters = {'alpha': [0.01,0.1,10,1000,10**-14, 10**-12, 10**-10, 10**-8, 10**-6, 10**-4, 10**-2, 10**0, 10**2, 10**4, 10**6]}\n",
        "log_reg = linear_model.SGDClassifier(loss=\"log\",n_jobs=-1,class_weight='balanced')\n",
        "grid_search = GridSearchCV(log_reg, parameters,cv=4)\n",
        "grid_search.fit(X_train, y_train_cv_TFIDF)"
      ],
      "metadata": {
        "colab": {
          "base_uri": "https://localhost:8080/"
        },
        "id": "qMuRPNz0Gwjw",
        "outputId": "11ba9aa5-1566-4a3d-91db-4874a9f3a176"
      },
      "execution_count": null,
      "outputs": [
        {
          "output_type": "execute_result",
          "data": {
            "text/plain": [
              "GridSearchCV(cv=4,\n",
              "             estimator=SGDClassifier(class_weight='balanced', loss='log',\n",
              "                                     n_jobs=-1),\n",
              "             param_grid={'alpha': [0.01, 0.1, 10, 1000, 1e-14, 1e-12, 1e-10,\n",
              "                                   1e-08, 1e-06, 0.0001, 0.01, 1, 100, 10000,\n",
              "                                   1000000]})"
            ]
          },
          "metadata": {},
          "execution_count": 69
        }
      ]
    },
    {
      "cell_type": "code",
      "source": [
        "grid_search.best_estimator_"
      ],
      "metadata": {
        "colab": {
          "base_uri": "https://localhost:8080/"
        },
        "id": "qd4RhUWuG4tJ",
        "outputId": "4e9ccebc-8fc2-4d83-c659-c264d2482a50"
      },
      "execution_count": null,
      "outputs": [
        {
          "output_type": "execute_result",
          "data": {
            "text/plain": [
              "SGDClassifier(alpha=10000, class_weight='balanced', loss='log', n_jobs=-1)"
            ]
          },
          "metadata": {},
          "execution_count": 70
        }
      ]
    },
    {
      "cell_type": "code",
      "source": [
        "log_reg=grid_search.best_estimator_\n",
        "log_reg.fit(X_train, y_train_cv_TFIDF)\n",
        "sig_clf = CalibratedClassifierCV(log_reg, method=\"sigmoid\")\n",
        "sig_clf.fit(X_train, y_train_cv_TFIDF)"
      ],
      "metadata": {
        "colab": {
          "base_uri": "https://localhost:8080/"
        },
        "id": "i8Kn_apFKs0Y",
        "outputId": "24ea8b94-3130-4a4a-c134-7a2465aff238"
      },
      "execution_count": null,
      "outputs": [
        {
          "output_type": "execute_result",
          "data": {
            "text/plain": [
              "CalibratedClassifierCV(base_estimator=SGDClassifier(alpha=10000,\n",
              "                                                    class_weight='balanced',\n",
              "                                                    loss='log', n_jobs=-1))"
            ]
          },
          "metadata": {},
          "execution_count": 71
        }
      ]
    },
    {
      "cell_type": "code",
      "source": [
        "predict_y = sig_clf.predict_proba(X_test)"
      ],
      "metadata": {
        "id": "RNT87DFELHGR"
      },
      "execution_count": null,
      "outputs": []
    },
    {
      "cell_type": "code",
      "source": [
        "MODEL_NAME = 'tfidf_Log_reg'\n",
        "X_test_TFIDF[MODEL_NAME] = list(predict_y[:,1])"
      ],
      "metadata": {
        "id": "RSvBtYsoLPQZ"
      },
      "execution_count": null,
      "outputs": []
    },
    {
      "cell_type": "code",
      "source": [
        "X_test_TFIDF.head()"
      ],
      "metadata": {
        "colab": {
          "base_uri": "https://localhost:8080/",
          "height": 577
        },
        "id": "KE-XzHpmLQwp",
        "outputId": "bc62a11c-746a-4b44-d2bc-e30d571496cb"
      },
      "execution_count": null,
      "outputs": [
        {
          "output_type": "execute_result",
          "data": {
            "text/plain": [
              "     index       id                                       comment_text  \\\n",
              "0   546354   911573   hour student learning time classroom time stu...   \n",
              "1   412488   748010  think author absolutely correct say two-state ...   \n",
              "2   796018  5094769  know qur'an written waaay back saudi arabia do...   \n",
              "3   922266  5247850  jt 's sun starting set shallowness becoming ev...   \n",
              "4  1711194  6220033  elite , democrat republican , tried grease tru...   \n",
              "\n",
              "   severe_toxicity  obscene  identity_attack    insult  threat  asian  \\\n",
              "0              0.0      0.0              0.0  0.000000     0.0    NaN   \n",
              "1              0.0      0.0              0.0  0.000000     0.0    NaN   \n",
              "2              0.0      0.0              0.0  0.000000     0.0    NaN   \n",
              "3              0.0      0.0              0.0  0.166667     0.0    NaN   \n",
              "4              0.0      0.0              0.0  0.000000     0.0    0.0   \n",
              "\n",
              "   atheist  ...  num_words  num_unique_words  words_vs_unique  num_smilies  \\\n",
              "0      NaN  ...         65                55         0.846154            0   \n",
              "1      NaN  ...         58                51         0.879310            0   \n",
              "2      NaN  ...         63                54         0.857143            0   \n",
              "3      NaN  ...         14                12         0.857143            0   \n",
              "4      0.0  ...         12                11         0.916667            0   \n",
              "\n",
              "   word_density  num_stopWords  num_nonStopWords  num_nonStopWords_density  \\\n",
              "0      0.018519            138               245                  0.639687   \n",
              "1      0.019608            121               203                  0.626543   \n",
              "2      0.019231            131               186                  0.586751   \n",
              "3      0.083333             33                41                  0.554054   \n",
              "4      0.090909             26                53                  0.670886   \n",
              "\n",
              "   num_stopWords_density  tfidf_Log_reg  \n",
              "0               0.360313       0.074989  \n",
              "1               0.373457       0.077384  \n",
              "2               0.413249       0.076879  \n",
              "3               0.445946       0.087477  \n",
              "4               0.329114       0.087364  \n",
              "\n",
              "[5 rows x 63 columns]"
            ],
            "text/html": [
              "\n",
              "  <div id=\"df-22b35c5f-123e-45d5-919c-1611767a3f44\">\n",
              "    <div class=\"colab-df-container\">\n",
              "      <div>\n",
              "<style scoped>\n",
              "    .dataframe tbody tr th:only-of-type {\n",
              "        vertical-align: middle;\n",
              "    }\n",
              "\n",
              "    .dataframe tbody tr th {\n",
              "        vertical-align: top;\n",
              "    }\n",
              "\n",
              "    .dataframe thead th {\n",
              "        text-align: right;\n",
              "    }\n",
              "</style>\n",
              "<table border=\"1\" class=\"dataframe\">\n",
              "  <thead>\n",
              "    <tr style=\"text-align: right;\">\n",
              "      <th></th>\n",
              "      <th>index</th>\n",
              "      <th>id</th>\n",
              "      <th>comment_text</th>\n",
              "      <th>severe_toxicity</th>\n",
              "      <th>obscene</th>\n",
              "      <th>identity_attack</th>\n",
              "      <th>insult</th>\n",
              "      <th>threat</th>\n",
              "      <th>asian</th>\n",
              "      <th>atheist</th>\n",
              "      <th>...</th>\n",
              "      <th>num_words</th>\n",
              "      <th>num_unique_words</th>\n",
              "      <th>words_vs_unique</th>\n",
              "      <th>num_smilies</th>\n",
              "      <th>word_density</th>\n",
              "      <th>num_stopWords</th>\n",
              "      <th>num_nonStopWords</th>\n",
              "      <th>num_nonStopWords_density</th>\n",
              "      <th>num_stopWords_density</th>\n",
              "      <th>tfidf_Log_reg</th>\n",
              "    </tr>\n",
              "  </thead>\n",
              "  <tbody>\n",
              "    <tr>\n",
              "      <th>0</th>\n",
              "      <td>546354</td>\n",
              "      <td>911573</td>\n",
              "      <td>hour student learning time classroom time stu...</td>\n",
              "      <td>0.0</td>\n",
              "      <td>0.0</td>\n",
              "      <td>0.0</td>\n",
              "      <td>0.000000</td>\n",
              "      <td>0.0</td>\n",
              "      <td>NaN</td>\n",
              "      <td>NaN</td>\n",
              "      <td>...</td>\n",
              "      <td>65</td>\n",
              "      <td>55</td>\n",
              "      <td>0.846154</td>\n",
              "      <td>0</td>\n",
              "      <td>0.018519</td>\n",
              "      <td>138</td>\n",
              "      <td>245</td>\n",
              "      <td>0.639687</td>\n",
              "      <td>0.360313</td>\n",
              "      <td>0.074989</td>\n",
              "    </tr>\n",
              "    <tr>\n",
              "      <th>1</th>\n",
              "      <td>412488</td>\n",
              "      <td>748010</td>\n",
              "      <td>think author absolutely correct say two-state ...</td>\n",
              "      <td>0.0</td>\n",
              "      <td>0.0</td>\n",
              "      <td>0.0</td>\n",
              "      <td>0.000000</td>\n",
              "      <td>0.0</td>\n",
              "      <td>NaN</td>\n",
              "      <td>NaN</td>\n",
              "      <td>...</td>\n",
              "      <td>58</td>\n",
              "      <td>51</td>\n",
              "      <td>0.879310</td>\n",
              "      <td>0</td>\n",
              "      <td>0.019608</td>\n",
              "      <td>121</td>\n",
              "      <td>203</td>\n",
              "      <td>0.626543</td>\n",
              "      <td>0.373457</td>\n",
              "      <td>0.077384</td>\n",
              "    </tr>\n",
              "    <tr>\n",
              "      <th>2</th>\n",
              "      <td>796018</td>\n",
              "      <td>5094769</td>\n",
              "      <td>know qur'an written waaay back saudi arabia do...</td>\n",
              "      <td>0.0</td>\n",
              "      <td>0.0</td>\n",
              "      <td>0.0</td>\n",
              "      <td>0.000000</td>\n",
              "      <td>0.0</td>\n",
              "      <td>NaN</td>\n",
              "      <td>NaN</td>\n",
              "      <td>...</td>\n",
              "      <td>63</td>\n",
              "      <td>54</td>\n",
              "      <td>0.857143</td>\n",
              "      <td>0</td>\n",
              "      <td>0.019231</td>\n",
              "      <td>131</td>\n",
              "      <td>186</td>\n",
              "      <td>0.586751</td>\n",
              "      <td>0.413249</td>\n",
              "      <td>0.076879</td>\n",
              "    </tr>\n",
              "    <tr>\n",
              "      <th>3</th>\n",
              "      <td>922266</td>\n",
              "      <td>5247850</td>\n",
              "      <td>jt 's sun starting set shallowness becoming ev...</td>\n",
              "      <td>0.0</td>\n",
              "      <td>0.0</td>\n",
              "      <td>0.0</td>\n",
              "      <td>0.166667</td>\n",
              "      <td>0.0</td>\n",
              "      <td>NaN</td>\n",
              "      <td>NaN</td>\n",
              "      <td>...</td>\n",
              "      <td>14</td>\n",
              "      <td>12</td>\n",
              "      <td>0.857143</td>\n",
              "      <td>0</td>\n",
              "      <td>0.083333</td>\n",
              "      <td>33</td>\n",
              "      <td>41</td>\n",
              "      <td>0.554054</td>\n",
              "      <td>0.445946</td>\n",
              "      <td>0.087477</td>\n",
              "    </tr>\n",
              "    <tr>\n",
              "      <th>4</th>\n",
              "      <td>1711194</td>\n",
              "      <td>6220033</td>\n",
              "      <td>elite , democrat republican , tried grease tru...</td>\n",
              "      <td>0.0</td>\n",
              "      <td>0.0</td>\n",
              "      <td>0.0</td>\n",
              "      <td>0.000000</td>\n",
              "      <td>0.0</td>\n",
              "      <td>0.0</td>\n",
              "      <td>0.0</td>\n",
              "      <td>...</td>\n",
              "      <td>12</td>\n",
              "      <td>11</td>\n",
              "      <td>0.916667</td>\n",
              "      <td>0</td>\n",
              "      <td>0.090909</td>\n",
              "      <td>26</td>\n",
              "      <td>53</td>\n",
              "      <td>0.670886</td>\n",
              "      <td>0.329114</td>\n",
              "      <td>0.087364</td>\n",
              "    </tr>\n",
              "  </tbody>\n",
              "</table>\n",
              "<p>5 rows × 63 columns</p>\n",
              "</div>\n",
              "      <button class=\"colab-df-convert\" onclick=\"convertToInteractive('df-22b35c5f-123e-45d5-919c-1611767a3f44')\"\n",
              "              title=\"Convert this dataframe to an interactive table.\"\n",
              "              style=\"display:none;\">\n",
              "        \n",
              "  <svg xmlns=\"http://www.w3.org/2000/svg\" height=\"24px\"viewBox=\"0 0 24 24\"\n",
              "       width=\"24px\">\n",
              "    <path d=\"M0 0h24v24H0V0z\" fill=\"none\"/>\n",
              "    <path d=\"M18.56 5.44l.94 2.06.94-2.06 2.06-.94-2.06-.94-.94-2.06-.94 2.06-2.06.94zm-11 1L8.5 8.5l.94-2.06 2.06-.94-2.06-.94L8.5 2.5l-.94 2.06-2.06.94zm10 10l.94 2.06.94-2.06 2.06-.94-2.06-.94-.94-2.06-.94 2.06-2.06.94z\"/><path d=\"M17.41 7.96l-1.37-1.37c-.4-.4-.92-.59-1.43-.59-.52 0-1.04.2-1.43.59L10.3 9.45l-7.72 7.72c-.78.78-.78 2.05 0 2.83L4 21.41c.39.39.9.59 1.41.59.51 0 1.02-.2 1.41-.59l7.78-7.78 2.81-2.81c.8-.78.8-2.07 0-2.86zM5.41 20L4 18.59l7.72-7.72 1.47 1.35L5.41 20z\"/>\n",
              "  </svg>\n",
              "      </button>\n",
              "      \n",
              "  <style>\n",
              "    .colab-df-container {\n",
              "      display:flex;\n",
              "      flex-wrap:wrap;\n",
              "      gap: 12px;\n",
              "    }\n",
              "\n",
              "    .colab-df-convert {\n",
              "      background-color: #E8F0FE;\n",
              "      border: none;\n",
              "      border-radius: 50%;\n",
              "      cursor: pointer;\n",
              "      display: none;\n",
              "      fill: #1967D2;\n",
              "      height: 32px;\n",
              "      padding: 0 0 0 0;\n",
              "      width: 32px;\n",
              "    }\n",
              "\n",
              "    .colab-df-convert:hover {\n",
              "      background-color: #E2EBFA;\n",
              "      box-shadow: 0px 1px 2px rgba(60, 64, 67, 0.3), 0px 1px 3px 1px rgba(60, 64, 67, 0.15);\n",
              "      fill: #174EA6;\n",
              "    }\n",
              "\n",
              "    [theme=dark] .colab-df-convert {\n",
              "      background-color: #3B4455;\n",
              "      fill: #D2E3FC;\n",
              "    }\n",
              "\n",
              "    [theme=dark] .colab-df-convert:hover {\n",
              "      background-color: #434B5C;\n",
              "      box-shadow: 0px 1px 3px 1px rgba(0, 0, 0, 0.15);\n",
              "      filter: drop-shadow(0px 1px 2px rgba(0, 0, 0, 0.3));\n",
              "      fill: #FFFFFF;\n",
              "    }\n",
              "  </style>\n",
              "\n",
              "      <script>\n",
              "        const buttonEl =\n",
              "          document.querySelector('#df-22b35c5f-123e-45d5-919c-1611767a3f44 button.colab-df-convert');\n",
              "        buttonEl.style.display =\n",
              "          google.colab.kernel.accessAllowed ? 'block' : 'none';\n",
              "\n",
              "        async function convertToInteractive(key) {\n",
              "          const element = document.querySelector('#df-22b35c5f-123e-45d5-919c-1611767a3f44');\n",
              "          const dataTable =\n",
              "            await google.colab.kernel.invokeFunction('convertToInteractive',\n",
              "                                                     [key], {});\n",
              "          if (!dataTable) return;\n",
              "\n",
              "          const docLinkHtml = 'Like what you see? Visit the ' +\n",
              "            '<a target=\"_blank\" href=https://colab.research.google.com/notebooks/data_table.ipynb>data table notebook</a>'\n",
              "            + ' to learn more about interactive tables.';\n",
              "          element.innerHTML = '';\n",
              "          dataTable['output_type'] = 'display_data';\n",
              "          await google.colab.output.renderOutput(dataTable, element);\n",
              "          const docLink = document.createElement('div');\n",
              "          docLink.innerHTML = docLinkHtml;\n",
              "          element.appendChild(docLink);\n",
              "        }\n",
              "      </script>\n",
              "    </div>\n",
              "  </div>\n",
              "  "
            ]
          },
          "metadata": {},
          "execution_count": 74
        }
      ]
    },
    {
      "cell_type": "code",
      "source": [
        "# List all identities\n",
        "identity_columns = [\n",
        "    'male', 'female', 'homosexual_gay_or_lesbian', 'christian', 'jewish',\n",
        "    'muslim', 'black', 'white', 'psychiatric_or_mental_illness']\n",
        "TOXICITY_COLUMN = 'target'"
      ],
      "metadata": {
        "id": "Sx7VPKGSLUyJ"
      },
      "execution_count": null,
      "outputs": []
    },
    {
      "cell_type": "code",
      "source": [
        "X_test_TFIDF['target']=list(y_test_TFIDF)"
      ],
      "metadata": {
        "id": "PgCBktHALckY"
      },
      "execution_count": null,
      "outputs": []
    },
    {
      "cell_type": "code",
      "source": [
        "bias_metrics_df = compute_bias_metrics_for_model(X_test_TFIDF, identity_columns, MODEL_NAME, TOXICITY_COLUMN)\n",
        "bias_metrics_df"
      ],
      "metadata": {
        "colab": {
          "base_uri": "https://localhost:8080/",
          "height": 332
        },
        "id": "WYONzu2-Lho4",
        "outputId": "142cacb5-577a-42d7-c9fb-df29ea359c17"
      },
      "execution_count": null,
      "outputs": [
        {
          "output_type": "execute_result",
          "data": {
            "text/plain": [
              "                        subgroup  subgroup_size  subgroup_auc  bpsn_auc  \\\n",
              "0                           male           8933      0.562815  0.680135   \n",
              "1                         female          10688      0.570536  0.712086   \n",
              "3                      christian           8099      0.601113  0.747585   \n",
              "5                         muslim           4224      0.601722  0.719484   \n",
              "7                          white           4989      0.607731  0.712892   \n",
              "4                         jewish           1517      0.624996  0.764993   \n",
              "6                          black           3057      0.635571  0.758237   \n",
              "2      homosexual_gay_or_lesbian           2187      0.648748  0.753139   \n",
              "8  psychiatric_or_mental_illness            999      0.687541  0.714365   \n",
              "\n",
              "   bnsp_auc  \n",
              "0  0.415599  \n",
              "1  0.393487  \n",
              "3  0.371347  \n",
              "5  0.410967  \n",
              "7  0.428419  \n",
              "4  0.395505  \n",
              "6  0.409592  \n",
              "2  0.418747  \n",
              "8  0.496923  "
            ],
            "text/html": [
              "\n",
              "  <div id=\"df-6c9e5fe3-244e-4a8f-b72d-fcab48e28607\">\n",
              "    <div class=\"colab-df-container\">\n",
              "      <div>\n",
              "<style scoped>\n",
              "    .dataframe tbody tr th:only-of-type {\n",
              "        vertical-align: middle;\n",
              "    }\n",
              "\n",
              "    .dataframe tbody tr th {\n",
              "        vertical-align: top;\n",
              "    }\n",
              "\n",
              "    .dataframe thead th {\n",
              "        text-align: right;\n",
              "    }\n",
              "</style>\n",
              "<table border=\"1\" class=\"dataframe\">\n",
              "  <thead>\n",
              "    <tr style=\"text-align: right;\">\n",
              "      <th></th>\n",
              "      <th>subgroup</th>\n",
              "      <th>subgroup_size</th>\n",
              "      <th>subgroup_auc</th>\n",
              "      <th>bpsn_auc</th>\n",
              "      <th>bnsp_auc</th>\n",
              "    </tr>\n",
              "  </thead>\n",
              "  <tbody>\n",
              "    <tr>\n",
              "      <th>0</th>\n",
              "      <td>male</td>\n",
              "      <td>8933</td>\n",
              "      <td>0.562815</td>\n",
              "      <td>0.680135</td>\n",
              "      <td>0.415599</td>\n",
              "    </tr>\n",
              "    <tr>\n",
              "      <th>1</th>\n",
              "      <td>female</td>\n",
              "      <td>10688</td>\n",
              "      <td>0.570536</td>\n",
              "      <td>0.712086</td>\n",
              "      <td>0.393487</td>\n",
              "    </tr>\n",
              "    <tr>\n",
              "      <th>3</th>\n",
              "      <td>christian</td>\n",
              "      <td>8099</td>\n",
              "      <td>0.601113</td>\n",
              "      <td>0.747585</td>\n",
              "      <td>0.371347</td>\n",
              "    </tr>\n",
              "    <tr>\n",
              "      <th>5</th>\n",
              "      <td>muslim</td>\n",
              "      <td>4224</td>\n",
              "      <td>0.601722</td>\n",
              "      <td>0.719484</td>\n",
              "      <td>0.410967</td>\n",
              "    </tr>\n",
              "    <tr>\n",
              "      <th>7</th>\n",
              "      <td>white</td>\n",
              "      <td>4989</td>\n",
              "      <td>0.607731</td>\n",
              "      <td>0.712892</td>\n",
              "      <td>0.428419</td>\n",
              "    </tr>\n",
              "    <tr>\n",
              "      <th>4</th>\n",
              "      <td>jewish</td>\n",
              "      <td>1517</td>\n",
              "      <td>0.624996</td>\n",
              "      <td>0.764993</td>\n",
              "      <td>0.395505</td>\n",
              "    </tr>\n",
              "    <tr>\n",
              "      <th>6</th>\n",
              "      <td>black</td>\n",
              "      <td>3057</td>\n",
              "      <td>0.635571</td>\n",
              "      <td>0.758237</td>\n",
              "      <td>0.409592</td>\n",
              "    </tr>\n",
              "    <tr>\n",
              "      <th>2</th>\n",
              "      <td>homosexual_gay_or_lesbian</td>\n",
              "      <td>2187</td>\n",
              "      <td>0.648748</td>\n",
              "      <td>0.753139</td>\n",
              "      <td>0.418747</td>\n",
              "    </tr>\n",
              "    <tr>\n",
              "      <th>8</th>\n",
              "      <td>psychiatric_or_mental_illness</td>\n",
              "      <td>999</td>\n",
              "      <td>0.687541</td>\n",
              "      <td>0.714365</td>\n",
              "      <td>0.496923</td>\n",
              "    </tr>\n",
              "  </tbody>\n",
              "</table>\n",
              "</div>\n",
              "      <button class=\"colab-df-convert\" onclick=\"convertToInteractive('df-6c9e5fe3-244e-4a8f-b72d-fcab48e28607')\"\n",
              "              title=\"Convert this dataframe to an interactive table.\"\n",
              "              style=\"display:none;\">\n",
              "        \n",
              "  <svg xmlns=\"http://www.w3.org/2000/svg\" height=\"24px\"viewBox=\"0 0 24 24\"\n",
              "       width=\"24px\">\n",
              "    <path d=\"M0 0h24v24H0V0z\" fill=\"none\"/>\n",
              "    <path d=\"M18.56 5.44l.94 2.06.94-2.06 2.06-.94-2.06-.94-.94-2.06-.94 2.06-2.06.94zm-11 1L8.5 8.5l.94-2.06 2.06-.94-2.06-.94L8.5 2.5l-.94 2.06-2.06.94zm10 10l.94 2.06.94-2.06 2.06-.94-2.06-.94-.94-2.06-.94 2.06-2.06.94z\"/><path d=\"M17.41 7.96l-1.37-1.37c-.4-.4-.92-.59-1.43-.59-.52 0-1.04.2-1.43.59L10.3 9.45l-7.72 7.72c-.78.78-.78 2.05 0 2.83L4 21.41c.39.39.9.59 1.41.59.51 0 1.02-.2 1.41-.59l7.78-7.78 2.81-2.81c.8-.78.8-2.07 0-2.86zM5.41 20L4 18.59l7.72-7.72 1.47 1.35L5.41 20z\"/>\n",
              "  </svg>\n",
              "      </button>\n",
              "      \n",
              "  <style>\n",
              "    .colab-df-container {\n",
              "      display:flex;\n",
              "      flex-wrap:wrap;\n",
              "      gap: 12px;\n",
              "    }\n",
              "\n",
              "    .colab-df-convert {\n",
              "      background-color: #E8F0FE;\n",
              "      border: none;\n",
              "      border-radius: 50%;\n",
              "      cursor: pointer;\n",
              "      display: none;\n",
              "      fill: #1967D2;\n",
              "      height: 32px;\n",
              "      padding: 0 0 0 0;\n",
              "      width: 32px;\n",
              "    }\n",
              "\n",
              "    .colab-df-convert:hover {\n",
              "      background-color: #E2EBFA;\n",
              "      box-shadow: 0px 1px 2px rgba(60, 64, 67, 0.3), 0px 1px 3px 1px rgba(60, 64, 67, 0.15);\n",
              "      fill: #174EA6;\n",
              "    }\n",
              "\n",
              "    [theme=dark] .colab-df-convert {\n",
              "      background-color: #3B4455;\n",
              "      fill: #D2E3FC;\n",
              "    }\n",
              "\n",
              "    [theme=dark] .colab-df-convert:hover {\n",
              "      background-color: #434B5C;\n",
              "      box-shadow: 0px 1px 3px 1px rgba(0, 0, 0, 0.15);\n",
              "      filter: drop-shadow(0px 1px 2px rgba(0, 0, 0, 0.3));\n",
              "      fill: #FFFFFF;\n",
              "    }\n",
              "  </style>\n",
              "\n",
              "      <script>\n",
              "        const buttonEl =\n",
              "          document.querySelector('#df-6c9e5fe3-244e-4a8f-b72d-fcab48e28607 button.colab-df-convert');\n",
              "        buttonEl.style.display =\n",
              "          google.colab.kernel.accessAllowed ? 'block' : 'none';\n",
              "\n",
              "        async function convertToInteractive(key) {\n",
              "          const element = document.querySelector('#df-6c9e5fe3-244e-4a8f-b72d-fcab48e28607');\n",
              "          const dataTable =\n",
              "            await google.colab.kernel.invokeFunction('convertToInteractive',\n",
              "                                                     [key], {});\n",
              "          if (!dataTable) return;\n",
              "\n",
              "          const docLinkHtml = 'Like what you see? Visit the ' +\n",
              "            '<a target=\"_blank\" href=https://colab.research.google.com/notebooks/data_table.ipynb>data table notebook</a>'\n",
              "            + ' to learn more about interactive tables.';\n",
              "          element.innerHTML = '';\n",
              "          dataTable['output_type'] = 'display_data';\n",
              "          await google.colab.output.renderOutput(dataTable, element);\n",
              "          const docLink = document.createElement('div');\n",
              "          docLink.innerHTML = docLinkHtml;\n",
              "          element.appendChild(docLink);\n",
              "        }\n",
              "      </script>\n",
              "    </div>\n",
              "  </div>\n",
              "  "
            ]
          },
          "metadata": {},
          "execution_count": 77
        }
      ]
    },
    {
      "cell_type": "code",
      "source": [
        "Log_re_model=get_final_metric(bias_metrics_df, calculate_overall_auc(X_test_TFIDF, MODEL_NAME))\n",
        "Log_re_model"
      ],
      "metadata": {
        "colab": {
          "base_uri": "https://localhost:8080/"
        },
        "id": "Zq-xqJmxLrcB",
        "outputId": "ec67ab57-5315-4b9d-fed4-86562059629d"
      },
      "execution_count": null,
      "outputs": [
        {
          "output_type": "execute_result",
          "data": {
            "text/plain": [
              "0.5702368116604069"
            ]
          },
          "metadata": {},
          "execution_count": 78
        }
      ]
    }
  ]
}